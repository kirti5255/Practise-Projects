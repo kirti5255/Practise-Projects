{
 "cells": [
  {
   "cell_type": "code",
   "execution_count": 1,
   "id": "19d94bc5",
   "metadata": {},
   "outputs": [],
   "source": [
    "#importing libraries\n",
    "import pandas as pd\n",
    "import numpy as np\n",
    "import seaborn as sns\n",
    "import matplotlib.pyplot as plt"
   ]
  },
  {
   "cell_type": "code",
   "execution_count": 2,
   "id": "2cba6f23",
   "metadata": {},
   "outputs": [
    {
     "data": {
      "text/html": [
       "<div>\n",
       "<style scoped>\n",
       "    .dataframe tbody tr th:only-of-type {\n",
       "        vertical-align: middle;\n",
       "    }\n",
       "\n",
       "    .dataframe tbody tr th {\n",
       "        vertical-align: top;\n",
       "    }\n",
       "\n",
       "    .dataframe thead th {\n",
       "        text-align: right;\n",
       "    }\n",
       "</style>\n",
       "<table border=\"1\" class=\"dataframe\">\n",
       "  <thead>\n",
       "    <tr style=\"text-align: right;\">\n",
       "      <th></th>\n",
       "      <th>fixed acidity</th>\n",
       "      <th>volatile acidity</th>\n",
       "      <th>citric acid</th>\n",
       "      <th>residual sugar</th>\n",
       "      <th>chlorides</th>\n",
       "      <th>free sulfur dioxide</th>\n",
       "      <th>total sulfur dioxide</th>\n",
       "      <th>density</th>\n",
       "      <th>pH</th>\n",
       "      <th>sulphates</th>\n",
       "      <th>alcohol</th>\n",
       "      <th>quality</th>\n",
       "    </tr>\n",
       "  </thead>\n",
       "  <tbody>\n",
       "    <tr>\n",
       "      <th>0</th>\n",
       "      <td>7.4</td>\n",
       "      <td>0.70</td>\n",
       "      <td>0.00</td>\n",
       "      <td>1.9</td>\n",
       "      <td>0.076</td>\n",
       "      <td>11.0</td>\n",
       "      <td>34.0</td>\n",
       "      <td>0.9978</td>\n",
       "      <td>3.51</td>\n",
       "      <td>0.56</td>\n",
       "      <td>9.4</td>\n",
       "      <td>5</td>\n",
       "    </tr>\n",
       "    <tr>\n",
       "      <th>1</th>\n",
       "      <td>7.8</td>\n",
       "      <td>0.88</td>\n",
       "      <td>0.00</td>\n",
       "      <td>2.6</td>\n",
       "      <td>0.098</td>\n",
       "      <td>25.0</td>\n",
       "      <td>67.0</td>\n",
       "      <td>0.9968</td>\n",
       "      <td>3.20</td>\n",
       "      <td>0.68</td>\n",
       "      <td>9.8</td>\n",
       "      <td>5</td>\n",
       "    </tr>\n",
       "    <tr>\n",
       "      <th>2</th>\n",
       "      <td>7.8</td>\n",
       "      <td>0.76</td>\n",
       "      <td>0.04</td>\n",
       "      <td>2.3</td>\n",
       "      <td>0.092</td>\n",
       "      <td>15.0</td>\n",
       "      <td>54.0</td>\n",
       "      <td>0.9970</td>\n",
       "      <td>3.26</td>\n",
       "      <td>0.65</td>\n",
       "      <td>9.8</td>\n",
       "      <td>5</td>\n",
       "    </tr>\n",
       "    <tr>\n",
       "      <th>3</th>\n",
       "      <td>11.2</td>\n",
       "      <td>0.28</td>\n",
       "      <td>0.56</td>\n",
       "      <td>1.9</td>\n",
       "      <td>0.075</td>\n",
       "      <td>17.0</td>\n",
       "      <td>60.0</td>\n",
       "      <td>0.9980</td>\n",
       "      <td>3.16</td>\n",
       "      <td>0.58</td>\n",
       "      <td>9.8</td>\n",
       "      <td>6</td>\n",
       "    </tr>\n",
       "    <tr>\n",
       "      <th>4</th>\n",
       "      <td>7.4</td>\n",
       "      <td>0.70</td>\n",
       "      <td>0.00</td>\n",
       "      <td>1.9</td>\n",
       "      <td>0.076</td>\n",
       "      <td>11.0</td>\n",
       "      <td>34.0</td>\n",
       "      <td>0.9978</td>\n",
       "      <td>3.51</td>\n",
       "      <td>0.56</td>\n",
       "      <td>9.4</td>\n",
       "      <td>5</td>\n",
       "    </tr>\n",
       "  </tbody>\n",
       "</table>\n",
       "</div>"
      ],
      "text/plain": [
       "   fixed acidity  volatile acidity  citric acid  residual sugar  chlorides  \\\n",
       "0            7.4              0.70         0.00             1.9      0.076   \n",
       "1            7.8              0.88         0.00             2.6      0.098   \n",
       "2            7.8              0.76         0.04             2.3      0.092   \n",
       "3           11.2              0.28         0.56             1.9      0.075   \n",
       "4            7.4              0.70         0.00             1.9      0.076   \n",
       "\n",
       "   free sulfur dioxide  total sulfur dioxide  density    pH  sulphates  \\\n",
       "0                 11.0                  34.0   0.9978  3.51       0.56   \n",
       "1                 25.0                  67.0   0.9968  3.20       0.68   \n",
       "2                 15.0                  54.0   0.9970  3.26       0.65   \n",
       "3                 17.0                  60.0   0.9980  3.16       0.58   \n",
       "4                 11.0                  34.0   0.9978  3.51       0.56   \n",
       "\n",
       "   alcohol  quality  \n",
       "0      9.4        5  \n",
       "1      9.8        5  \n",
       "2      9.8        5  \n",
       "3      9.8        6  \n",
       "4      9.4        5  "
      ]
     },
     "execution_count": 2,
     "metadata": {},
     "output_type": "execute_result"
    }
   ],
   "source": [
    "wine=pd.read_csv('https://raw.githubusercontent.com/dsrscientist/DSData/master/winequality-red.csv')\n",
    "wine.head()"
   ]
  },
  {
   "cell_type": "markdown",
   "id": "03b4c2f1",
   "metadata": {},
   "source": [
    "# PERFORMING EDA"
   ]
  },
  {
   "cell_type": "code",
   "execution_count": 3,
   "id": "7a3e109e",
   "metadata": {},
   "outputs": [
    {
     "data": {
      "text/html": [
       "<div>\n",
       "<style scoped>\n",
       "    .dataframe tbody tr th:only-of-type {\n",
       "        vertical-align: middle;\n",
       "    }\n",
       "\n",
       "    .dataframe tbody tr th {\n",
       "        vertical-align: top;\n",
       "    }\n",
       "\n",
       "    .dataframe thead th {\n",
       "        text-align: right;\n",
       "    }\n",
       "</style>\n",
       "<table border=\"1\" class=\"dataframe\">\n",
       "  <thead>\n",
       "    <tr style=\"text-align: right;\">\n",
       "      <th></th>\n",
       "      <th>fixed acidity</th>\n",
       "      <th>volatile acidity</th>\n",
       "      <th>citric acid</th>\n",
       "      <th>residual sugar</th>\n",
       "      <th>chlorides</th>\n",
       "      <th>free sulfur dioxide</th>\n",
       "      <th>total sulfur dioxide</th>\n",
       "      <th>density</th>\n",
       "      <th>pH</th>\n",
       "      <th>sulphates</th>\n",
       "      <th>alcohol</th>\n",
       "      <th>quality</th>\n",
       "    </tr>\n",
       "  </thead>\n",
       "  <tbody>\n",
       "    <tr>\n",
       "      <th>0</th>\n",
       "      <td>7.4</td>\n",
       "      <td>0.700</td>\n",
       "      <td>0.00</td>\n",
       "      <td>1.9</td>\n",
       "      <td>0.076</td>\n",
       "      <td>11.0</td>\n",
       "      <td>34.0</td>\n",
       "      <td>0.99780</td>\n",
       "      <td>3.51</td>\n",
       "      <td>0.56</td>\n",
       "      <td>9.4</td>\n",
       "      <td>5</td>\n",
       "    </tr>\n",
       "    <tr>\n",
       "      <th>1</th>\n",
       "      <td>7.8</td>\n",
       "      <td>0.880</td>\n",
       "      <td>0.00</td>\n",
       "      <td>2.6</td>\n",
       "      <td>0.098</td>\n",
       "      <td>25.0</td>\n",
       "      <td>67.0</td>\n",
       "      <td>0.99680</td>\n",
       "      <td>3.20</td>\n",
       "      <td>0.68</td>\n",
       "      <td>9.8</td>\n",
       "      <td>5</td>\n",
       "    </tr>\n",
       "    <tr>\n",
       "      <th>2</th>\n",
       "      <td>7.8</td>\n",
       "      <td>0.760</td>\n",
       "      <td>0.04</td>\n",
       "      <td>2.3</td>\n",
       "      <td>0.092</td>\n",
       "      <td>15.0</td>\n",
       "      <td>54.0</td>\n",
       "      <td>0.99700</td>\n",
       "      <td>3.26</td>\n",
       "      <td>0.65</td>\n",
       "      <td>9.8</td>\n",
       "      <td>5</td>\n",
       "    </tr>\n",
       "    <tr>\n",
       "      <th>3</th>\n",
       "      <td>11.2</td>\n",
       "      <td>0.280</td>\n",
       "      <td>0.56</td>\n",
       "      <td>1.9</td>\n",
       "      <td>0.075</td>\n",
       "      <td>17.0</td>\n",
       "      <td>60.0</td>\n",
       "      <td>0.99800</td>\n",
       "      <td>3.16</td>\n",
       "      <td>0.58</td>\n",
       "      <td>9.8</td>\n",
       "      <td>6</td>\n",
       "    </tr>\n",
       "    <tr>\n",
       "      <th>4</th>\n",
       "      <td>7.4</td>\n",
       "      <td>0.700</td>\n",
       "      <td>0.00</td>\n",
       "      <td>1.9</td>\n",
       "      <td>0.076</td>\n",
       "      <td>11.0</td>\n",
       "      <td>34.0</td>\n",
       "      <td>0.99780</td>\n",
       "      <td>3.51</td>\n",
       "      <td>0.56</td>\n",
       "      <td>9.4</td>\n",
       "      <td>5</td>\n",
       "    </tr>\n",
       "    <tr>\n",
       "      <th>...</th>\n",
       "      <td>...</td>\n",
       "      <td>...</td>\n",
       "      <td>...</td>\n",
       "      <td>...</td>\n",
       "      <td>...</td>\n",
       "      <td>...</td>\n",
       "      <td>...</td>\n",
       "      <td>...</td>\n",
       "      <td>...</td>\n",
       "      <td>...</td>\n",
       "      <td>...</td>\n",
       "      <td>...</td>\n",
       "    </tr>\n",
       "    <tr>\n",
       "      <th>1594</th>\n",
       "      <td>6.2</td>\n",
       "      <td>0.600</td>\n",
       "      <td>0.08</td>\n",
       "      <td>2.0</td>\n",
       "      <td>0.090</td>\n",
       "      <td>32.0</td>\n",
       "      <td>44.0</td>\n",
       "      <td>0.99490</td>\n",
       "      <td>3.45</td>\n",
       "      <td>0.58</td>\n",
       "      <td>10.5</td>\n",
       "      <td>5</td>\n",
       "    </tr>\n",
       "    <tr>\n",
       "      <th>1595</th>\n",
       "      <td>5.9</td>\n",
       "      <td>0.550</td>\n",
       "      <td>0.10</td>\n",
       "      <td>2.2</td>\n",
       "      <td>0.062</td>\n",
       "      <td>39.0</td>\n",
       "      <td>51.0</td>\n",
       "      <td>0.99512</td>\n",
       "      <td>3.52</td>\n",
       "      <td>0.76</td>\n",
       "      <td>11.2</td>\n",
       "      <td>6</td>\n",
       "    </tr>\n",
       "    <tr>\n",
       "      <th>1596</th>\n",
       "      <td>6.3</td>\n",
       "      <td>0.510</td>\n",
       "      <td>0.13</td>\n",
       "      <td>2.3</td>\n",
       "      <td>0.076</td>\n",
       "      <td>29.0</td>\n",
       "      <td>40.0</td>\n",
       "      <td>0.99574</td>\n",
       "      <td>3.42</td>\n",
       "      <td>0.75</td>\n",
       "      <td>11.0</td>\n",
       "      <td>6</td>\n",
       "    </tr>\n",
       "    <tr>\n",
       "      <th>1597</th>\n",
       "      <td>5.9</td>\n",
       "      <td>0.645</td>\n",
       "      <td>0.12</td>\n",
       "      <td>2.0</td>\n",
       "      <td>0.075</td>\n",
       "      <td>32.0</td>\n",
       "      <td>44.0</td>\n",
       "      <td>0.99547</td>\n",
       "      <td>3.57</td>\n",
       "      <td>0.71</td>\n",
       "      <td>10.2</td>\n",
       "      <td>5</td>\n",
       "    </tr>\n",
       "    <tr>\n",
       "      <th>1598</th>\n",
       "      <td>6.0</td>\n",
       "      <td>0.310</td>\n",
       "      <td>0.47</td>\n",
       "      <td>3.6</td>\n",
       "      <td>0.067</td>\n",
       "      <td>18.0</td>\n",
       "      <td>42.0</td>\n",
       "      <td>0.99549</td>\n",
       "      <td>3.39</td>\n",
       "      <td>0.66</td>\n",
       "      <td>11.0</td>\n",
       "      <td>6</td>\n",
       "    </tr>\n",
       "  </tbody>\n",
       "</table>\n",
       "<p>1599 rows × 12 columns</p>\n",
       "</div>"
      ],
      "text/plain": [
       "      fixed acidity  volatile acidity  citric acid  residual sugar  chlorides  \\\n",
       "0               7.4             0.700         0.00             1.9      0.076   \n",
       "1               7.8             0.880         0.00             2.6      0.098   \n",
       "2               7.8             0.760         0.04             2.3      0.092   \n",
       "3              11.2             0.280         0.56             1.9      0.075   \n",
       "4               7.4             0.700         0.00             1.9      0.076   \n",
       "...             ...               ...          ...             ...        ...   \n",
       "1594            6.2             0.600         0.08             2.0      0.090   \n",
       "1595            5.9             0.550         0.10             2.2      0.062   \n",
       "1596            6.3             0.510         0.13             2.3      0.076   \n",
       "1597            5.9             0.645         0.12             2.0      0.075   \n",
       "1598            6.0             0.310         0.47             3.6      0.067   \n",
       "\n",
       "      free sulfur dioxide  total sulfur dioxide  density    pH  sulphates  \\\n",
       "0                    11.0                  34.0  0.99780  3.51       0.56   \n",
       "1                    25.0                  67.0  0.99680  3.20       0.68   \n",
       "2                    15.0                  54.0  0.99700  3.26       0.65   \n",
       "3                    17.0                  60.0  0.99800  3.16       0.58   \n",
       "4                    11.0                  34.0  0.99780  3.51       0.56   \n",
       "...                   ...                   ...      ...   ...        ...   \n",
       "1594                 32.0                  44.0  0.99490  3.45       0.58   \n",
       "1595                 39.0                  51.0  0.99512  3.52       0.76   \n",
       "1596                 29.0                  40.0  0.99574  3.42       0.75   \n",
       "1597                 32.0                  44.0  0.99547  3.57       0.71   \n",
       "1598                 18.0                  42.0  0.99549  3.39       0.66   \n",
       "\n",
       "      alcohol  quality  \n",
       "0         9.4        5  \n",
       "1         9.8        5  \n",
       "2         9.8        5  \n",
       "3         9.8        6  \n",
       "4         9.4        5  \n",
       "...       ...      ...  \n",
       "1594     10.5        5  \n",
       "1595     11.2        6  \n",
       "1596     11.0        6  \n",
       "1597     10.2        5  \n",
       "1598     11.0        6  \n",
       "\n",
       "[1599 rows x 12 columns]"
      ]
     },
     "execution_count": 3,
     "metadata": {},
     "output_type": "execute_result"
    }
   ],
   "source": [
    "#creating a data frame\n",
    "wine_ds = pd.DataFrame(wine)\n",
    "wine_ds"
   ]
  },
  {
   "cell_type": "code",
   "execution_count": 4,
   "id": "33412def",
   "metadata": {},
   "outputs": [
    {
     "data": {
      "text/plain": [
       "pandas.core.frame.DataFrame"
      ]
     },
     "execution_count": 4,
     "metadata": {},
     "output_type": "execute_result"
    }
   ],
   "source": [
    "#to find the type of the dataset\n",
    "type(wine_ds)\n",
    "\n",
    "#the dataset type is data frame"
   ]
  },
  {
   "cell_type": "code",
   "execution_count": 5,
   "id": "a9f79f4a",
   "metadata": {},
   "outputs": [
    {
     "name": "stdout",
     "output_type": "stream",
     "text": [
      "<class 'pandas.core.frame.DataFrame'>\n",
      "RangeIndex: 1599 entries, 0 to 1598\n",
      "Data columns (total 12 columns):\n",
      " #   Column                Non-Null Count  Dtype  \n",
      "---  ------                --------------  -----  \n",
      " 0   fixed acidity         1599 non-null   float64\n",
      " 1   volatile acidity      1599 non-null   float64\n",
      " 2   citric acid           1599 non-null   float64\n",
      " 3   residual sugar        1599 non-null   float64\n",
      " 4   chlorides             1599 non-null   float64\n",
      " 5   free sulfur dioxide   1599 non-null   float64\n",
      " 6   total sulfur dioxide  1599 non-null   float64\n",
      " 7   density               1599 non-null   float64\n",
      " 8   pH                    1599 non-null   float64\n",
      " 9   sulphates             1599 non-null   float64\n",
      " 10  alcohol               1599 non-null   float64\n",
      " 11  quality               1599 non-null   int64  \n",
      "dtypes: float64(11), int64(1)\n",
      "memory usage: 150.0 KB\n"
     ]
    }
   ],
   "source": [
    "wine_ds.info()\n",
    "#It gives the information about the data that there are total 1599 rows and 12 columns.The data types used are float and int."
   ]
  },
  {
   "cell_type": "code",
   "execution_count": 6,
   "id": "3c5e6288",
   "metadata": {},
   "outputs": [
    {
     "data": {
      "text/plain": [
       "fixed acidity           float64\n",
       "volatile acidity        float64\n",
       "citric acid             float64\n",
       "residual sugar          float64\n",
       "chlorides               float64\n",
       "free sulfur dioxide     float64\n",
       "total sulfur dioxide    float64\n",
       "density                 float64\n",
       "pH                      float64\n",
       "sulphates               float64\n",
       "alcohol                 float64\n",
       "quality                   int64\n",
       "dtype: object"
      ]
     },
     "execution_count": 6,
     "metadata": {},
     "output_type": "execute_result"
    }
   ],
   "source": [
    "wine_ds.dtypes\n",
    "#showing only the data types of each column- float64 and int64"
   ]
  },
  {
   "cell_type": "code",
   "execution_count": 7,
   "id": "7414f2af",
   "metadata": {},
   "outputs": [
    {
     "data": {
      "text/plain": [
       "Index(['fixed acidity', 'volatile acidity', 'citric acid', 'residual sugar',\n",
       "       'chlorides', 'free sulfur dioxide', 'total sulfur dioxide', 'density',\n",
       "       'pH', 'sulphates', 'alcohol', 'quality'],\n",
       "      dtype='object')"
      ]
     },
     "execution_count": 7,
     "metadata": {},
     "output_type": "execute_result"
    }
   ],
   "source": [
    "wine_ds.columns\n",
    "#showing list of all the column names"
   ]
  },
  {
   "cell_type": "code",
   "execution_count": 8,
   "id": "95fe3649",
   "metadata": {},
   "outputs": [
    {
     "data": {
      "text/plain": [
       "(1599, 12)"
      ]
     },
     "execution_count": 8,
     "metadata": {},
     "output_type": "execute_result"
    }
   ],
   "source": [
    "wine_ds.shape\n",
    "\n",
    "#total of 1599 rows and 12 columns present"
   ]
  },
  {
   "cell_type": "code",
   "execution_count": 9,
   "id": "4ee15bf5",
   "metadata": {},
   "outputs": [
    {
     "data": {
      "text/html": [
       "<div>\n",
       "<style scoped>\n",
       "    .dataframe tbody tr th:only-of-type {\n",
       "        vertical-align: middle;\n",
       "    }\n",
       "\n",
       "    .dataframe tbody tr th {\n",
       "        vertical-align: top;\n",
       "    }\n",
       "\n",
       "    .dataframe thead th {\n",
       "        text-align: right;\n",
       "    }\n",
       "</style>\n",
       "<table border=\"1\" class=\"dataframe\">\n",
       "  <thead>\n",
       "    <tr style=\"text-align: right;\">\n",
       "      <th></th>\n",
       "      <th>fixed acidity</th>\n",
       "      <th>volatile acidity</th>\n",
       "      <th>citric acid</th>\n",
       "      <th>residual sugar</th>\n",
       "      <th>chlorides</th>\n",
       "      <th>free sulfur dioxide</th>\n",
       "      <th>total sulfur dioxide</th>\n",
       "      <th>density</th>\n",
       "      <th>pH</th>\n",
       "      <th>sulphates</th>\n",
       "      <th>alcohol</th>\n",
       "      <th>quality</th>\n",
       "    </tr>\n",
       "  </thead>\n",
       "  <tbody>\n",
       "    <tr>\n",
       "      <th>count</th>\n",
       "      <td>1599.000000</td>\n",
       "      <td>1599.000000</td>\n",
       "      <td>1599.000000</td>\n",
       "      <td>1599.000000</td>\n",
       "      <td>1599.000000</td>\n",
       "      <td>1599.000000</td>\n",
       "      <td>1599.000000</td>\n",
       "      <td>1599.000000</td>\n",
       "      <td>1599.000000</td>\n",
       "      <td>1599.000000</td>\n",
       "      <td>1599.000000</td>\n",
       "      <td>1599.000000</td>\n",
       "    </tr>\n",
       "    <tr>\n",
       "      <th>mean</th>\n",
       "      <td>8.319637</td>\n",
       "      <td>0.527821</td>\n",
       "      <td>0.270976</td>\n",
       "      <td>2.538806</td>\n",
       "      <td>0.087467</td>\n",
       "      <td>15.874922</td>\n",
       "      <td>46.467792</td>\n",
       "      <td>0.996747</td>\n",
       "      <td>3.311113</td>\n",
       "      <td>0.658149</td>\n",
       "      <td>10.422983</td>\n",
       "      <td>5.636023</td>\n",
       "    </tr>\n",
       "    <tr>\n",
       "      <th>std</th>\n",
       "      <td>1.741096</td>\n",
       "      <td>0.179060</td>\n",
       "      <td>0.194801</td>\n",
       "      <td>1.409928</td>\n",
       "      <td>0.047065</td>\n",
       "      <td>10.460157</td>\n",
       "      <td>32.895324</td>\n",
       "      <td>0.001887</td>\n",
       "      <td>0.154386</td>\n",
       "      <td>0.169507</td>\n",
       "      <td>1.065668</td>\n",
       "      <td>0.807569</td>\n",
       "    </tr>\n",
       "    <tr>\n",
       "      <th>min</th>\n",
       "      <td>4.600000</td>\n",
       "      <td>0.120000</td>\n",
       "      <td>0.000000</td>\n",
       "      <td>0.900000</td>\n",
       "      <td>0.012000</td>\n",
       "      <td>1.000000</td>\n",
       "      <td>6.000000</td>\n",
       "      <td>0.990070</td>\n",
       "      <td>2.740000</td>\n",
       "      <td>0.330000</td>\n",
       "      <td>8.400000</td>\n",
       "      <td>3.000000</td>\n",
       "    </tr>\n",
       "    <tr>\n",
       "      <th>25%</th>\n",
       "      <td>7.100000</td>\n",
       "      <td>0.390000</td>\n",
       "      <td>0.090000</td>\n",
       "      <td>1.900000</td>\n",
       "      <td>0.070000</td>\n",
       "      <td>7.000000</td>\n",
       "      <td>22.000000</td>\n",
       "      <td>0.995600</td>\n",
       "      <td>3.210000</td>\n",
       "      <td>0.550000</td>\n",
       "      <td>9.500000</td>\n",
       "      <td>5.000000</td>\n",
       "    </tr>\n",
       "    <tr>\n",
       "      <th>50%</th>\n",
       "      <td>7.900000</td>\n",
       "      <td>0.520000</td>\n",
       "      <td>0.260000</td>\n",
       "      <td>2.200000</td>\n",
       "      <td>0.079000</td>\n",
       "      <td>14.000000</td>\n",
       "      <td>38.000000</td>\n",
       "      <td>0.996750</td>\n",
       "      <td>3.310000</td>\n",
       "      <td>0.620000</td>\n",
       "      <td>10.200000</td>\n",
       "      <td>6.000000</td>\n",
       "    </tr>\n",
       "    <tr>\n",
       "      <th>75%</th>\n",
       "      <td>9.200000</td>\n",
       "      <td>0.640000</td>\n",
       "      <td>0.420000</td>\n",
       "      <td>2.600000</td>\n",
       "      <td>0.090000</td>\n",
       "      <td>21.000000</td>\n",
       "      <td>62.000000</td>\n",
       "      <td>0.997835</td>\n",
       "      <td>3.400000</td>\n",
       "      <td>0.730000</td>\n",
       "      <td>11.100000</td>\n",
       "      <td>6.000000</td>\n",
       "    </tr>\n",
       "    <tr>\n",
       "      <th>max</th>\n",
       "      <td>15.900000</td>\n",
       "      <td>1.580000</td>\n",
       "      <td>1.000000</td>\n",
       "      <td>15.500000</td>\n",
       "      <td>0.611000</td>\n",
       "      <td>72.000000</td>\n",
       "      <td>289.000000</td>\n",
       "      <td>1.003690</td>\n",
       "      <td>4.010000</td>\n",
       "      <td>2.000000</td>\n",
       "      <td>14.900000</td>\n",
       "      <td>8.000000</td>\n",
       "    </tr>\n",
       "  </tbody>\n",
       "</table>\n",
       "</div>"
      ],
      "text/plain": [
       "       fixed acidity  volatile acidity  citric acid  residual sugar  \\\n",
       "count    1599.000000       1599.000000  1599.000000     1599.000000   \n",
       "mean        8.319637          0.527821     0.270976        2.538806   \n",
       "std         1.741096          0.179060     0.194801        1.409928   \n",
       "min         4.600000          0.120000     0.000000        0.900000   \n",
       "25%         7.100000          0.390000     0.090000        1.900000   \n",
       "50%         7.900000          0.520000     0.260000        2.200000   \n",
       "75%         9.200000          0.640000     0.420000        2.600000   \n",
       "max        15.900000          1.580000     1.000000       15.500000   \n",
       "\n",
       "         chlorides  free sulfur dioxide  total sulfur dioxide      density  \\\n",
       "count  1599.000000          1599.000000           1599.000000  1599.000000   \n",
       "mean      0.087467            15.874922             46.467792     0.996747   \n",
       "std       0.047065            10.460157             32.895324     0.001887   \n",
       "min       0.012000             1.000000              6.000000     0.990070   \n",
       "25%       0.070000             7.000000             22.000000     0.995600   \n",
       "50%       0.079000            14.000000             38.000000     0.996750   \n",
       "75%       0.090000            21.000000             62.000000     0.997835   \n",
       "max       0.611000            72.000000            289.000000     1.003690   \n",
       "\n",
       "                pH    sulphates      alcohol      quality  \n",
       "count  1599.000000  1599.000000  1599.000000  1599.000000  \n",
       "mean      3.311113     0.658149    10.422983     5.636023  \n",
       "std       0.154386     0.169507     1.065668     0.807569  \n",
       "min       2.740000     0.330000     8.400000     3.000000  \n",
       "25%       3.210000     0.550000     9.500000     5.000000  \n",
       "50%       3.310000     0.620000    10.200000     6.000000  \n",
       "75%       3.400000     0.730000    11.100000     6.000000  \n",
       "max       4.010000     2.000000    14.900000     8.000000  "
      ]
     },
     "execution_count": 9,
     "metadata": {},
     "output_type": "execute_result"
    }
   ],
   "source": [
    "wine_ds.describe()\n",
    "\n",
    "#it gives the brief description about the data.\n",
    "#count: tells the total number of rows\n",
    "#mean: tells the mean of each column\n",
    "#std: Standard deviation\n",
    "#min: gives minimum value in each column\n",
    "#1st quantile (25%)\n",
    "#median (50%)\n",
    "#3rd quantile (75%)\n",
    "#max: maximum value in each column\n",
    "\n",
    "\n",
    "#we can notice the high standard deviation between the 3rd quantile and maximum value in columns:\n",
    "#free sulphur dioxide, total sulphur dioxide, fixed acidity"
   ]
  },
  {
   "cell_type": "code",
   "execution_count": 10,
   "id": "a57a0725",
   "metadata": {},
   "outputs": [
    {
     "data": {
      "text/plain": [
       "fixed acidity           False\n",
       "volatile acidity        False\n",
       "citric acid             False\n",
       "residual sugar          False\n",
       "chlorides               False\n",
       "free sulfur dioxide     False\n",
       "total sulfur dioxide    False\n",
       "density                 False\n",
       "pH                      False\n",
       "sulphates               False\n",
       "alcohol                 False\n",
       "quality                 False\n",
       "dtype: bool"
      ]
     },
     "execution_count": 10,
     "metadata": {},
     "output_type": "execute_result"
    }
   ],
   "source": [
    "wine_ds.sum().isnull()\n",
    "\n",
    "#there are no null values in dataset"
   ]
  },
  {
   "cell_type": "code",
   "execution_count": 11,
   "id": "e4bf365f",
   "metadata": {},
   "outputs": [
    {
     "data": {
      "text/plain": [
       "<AxesSubplot:>"
      ]
     },
     "execution_count": 11,
     "metadata": {},
     "output_type": "execute_result"
    },
    {
     "data": {
      "image/png": "[encoded data removed]",
      "text/plain": [
       "<Figure size 432x288 with 2 Axes>"
      ]
     },
     "metadata": {
      "needs_background": "light"
     },
     "output_type": "display_data"
    }
   ],
   "source": [
    "sns.heatmap(wine_ds.isnull())\n",
    "\n",
    "#the plot shows no null values"
   ]
  },
  {
   "cell_type": "code",
   "execution_count": 12,
   "id": "0969abf6",
   "metadata": {},
   "outputs": [
    {
     "data": {
      "text/html": [
       "<div>\n",
       "<style scoped>\n",
       "    .dataframe tbody tr th:only-of-type {\n",
       "        vertical-align: middle;\n",
       "    }\n",
       "\n",
       "    .dataframe tbody tr th {\n",
       "        vertical-align: top;\n",
       "    }\n",
       "\n",
       "    .dataframe thead th {\n",
       "        text-align: right;\n",
       "    }\n",
       "</style>\n",
       "<table border=\"1\" class=\"dataframe\">\n",
       "  <thead>\n",
       "    <tr style=\"text-align: right;\">\n",
       "      <th></th>\n",
       "      <th>fixed acidity</th>\n",
       "      <th>volatile acidity</th>\n",
       "      <th>citric acid</th>\n",
       "      <th>residual sugar</th>\n",
       "      <th>chlorides</th>\n",
       "      <th>free sulfur dioxide</th>\n",
       "      <th>total sulfur dioxide</th>\n",
       "      <th>density</th>\n",
       "      <th>pH</th>\n",
       "      <th>sulphates</th>\n",
       "      <th>alcohol</th>\n",
       "    </tr>\n",
       "  </thead>\n",
       "  <tbody>\n",
       "    <tr>\n",
       "      <th>0</th>\n",
       "      <td>7.4</td>\n",
       "      <td>0.700</td>\n",
       "      <td>0.00</td>\n",
       "      <td>1.9</td>\n",
       "      <td>0.076</td>\n",
       "      <td>11.0</td>\n",
       "      <td>34.0</td>\n",
       "      <td>0.99780</td>\n",
       "      <td>3.51</td>\n",
       "      <td>0.56</td>\n",
       "      <td>9.4</td>\n",
       "    </tr>\n",
       "    <tr>\n",
       "      <th>1</th>\n",
       "      <td>7.8</td>\n",
       "      <td>0.880</td>\n",
       "      <td>0.00</td>\n",
       "      <td>2.6</td>\n",
       "      <td>0.098</td>\n",
       "      <td>25.0</td>\n",
       "      <td>67.0</td>\n",
       "      <td>0.99680</td>\n",
       "      <td>3.20</td>\n",
       "      <td>0.68</td>\n",
       "      <td>9.8</td>\n",
       "    </tr>\n",
       "    <tr>\n",
       "      <th>2</th>\n",
       "      <td>7.8</td>\n",
       "      <td>0.760</td>\n",
       "      <td>0.04</td>\n",
       "      <td>2.3</td>\n",
       "      <td>0.092</td>\n",
       "      <td>15.0</td>\n",
       "      <td>54.0</td>\n",
       "      <td>0.99700</td>\n",
       "      <td>3.26</td>\n",
       "      <td>0.65</td>\n",
       "      <td>9.8</td>\n",
       "    </tr>\n",
       "    <tr>\n",
       "      <th>3</th>\n",
       "      <td>11.2</td>\n",
       "      <td>0.280</td>\n",
       "      <td>0.56</td>\n",
       "      <td>1.9</td>\n",
       "      <td>0.075</td>\n",
       "      <td>17.0</td>\n",
       "      <td>60.0</td>\n",
       "      <td>0.99800</td>\n",
       "      <td>3.16</td>\n",
       "      <td>0.58</td>\n",
       "      <td>9.8</td>\n",
       "    </tr>\n",
       "    <tr>\n",
       "      <th>4</th>\n",
       "      <td>7.4</td>\n",
       "      <td>0.700</td>\n",
       "      <td>0.00</td>\n",
       "      <td>1.9</td>\n",
       "      <td>0.076</td>\n",
       "      <td>11.0</td>\n",
       "      <td>34.0</td>\n",
       "      <td>0.99780</td>\n",
       "      <td>3.51</td>\n",
       "      <td>0.56</td>\n",
       "      <td>9.4</td>\n",
       "    </tr>\n",
       "    <tr>\n",
       "      <th>...</th>\n",
       "      <td>...</td>\n",
       "      <td>...</td>\n",
       "      <td>...</td>\n",
       "      <td>...</td>\n",
       "      <td>...</td>\n",
       "      <td>...</td>\n",
       "      <td>...</td>\n",
       "      <td>...</td>\n",
       "      <td>...</td>\n",
       "      <td>...</td>\n",
       "      <td>...</td>\n",
       "    </tr>\n",
       "    <tr>\n",
       "      <th>1594</th>\n",
       "      <td>6.2</td>\n",
       "      <td>0.600</td>\n",
       "      <td>0.08</td>\n",
       "      <td>2.0</td>\n",
       "      <td>0.090</td>\n",
       "      <td>32.0</td>\n",
       "      <td>44.0</td>\n",
       "      <td>0.99490</td>\n",
       "      <td>3.45</td>\n",
       "      <td>0.58</td>\n",
       "      <td>10.5</td>\n",
       "    </tr>\n",
       "    <tr>\n",
       "      <th>1595</th>\n",
       "      <td>5.9</td>\n",
       "      <td>0.550</td>\n",
       "      <td>0.10</td>\n",
       "      <td>2.2</td>\n",
       "      <td>0.062</td>\n",
       "      <td>39.0</td>\n",
       "      <td>51.0</td>\n",
       "      <td>0.99512</td>\n",
       "      <td>3.52</td>\n",
       "      <td>0.76</td>\n",
       "      <td>11.2</td>\n",
       "    </tr>\n",
       "    <tr>\n",
       "      <th>1596</th>\n",
       "      <td>6.3</td>\n",
       "      <td>0.510</td>\n",
       "      <td>0.13</td>\n",
       "      <td>2.3</td>\n",
       "      <td>0.076</td>\n",
       "      <td>29.0</td>\n",
       "      <td>40.0</td>\n",
       "      <td>0.99574</td>\n",
       "      <td>3.42</td>\n",
       "      <td>0.75</td>\n",
       "      <td>11.0</td>\n",
       "    </tr>\n",
       "    <tr>\n",
       "      <th>1597</th>\n",
       "      <td>5.9</td>\n",
       "      <td>0.645</td>\n",
       "      <td>0.12</td>\n",
       "      <td>2.0</td>\n",
       "      <td>0.075</td>\n",
       "      <td>32.0</td>\n",
       "      <td>44.0</td>\n",
       "      <td>0.99547</td>\n",
       "      <td>3.57</td>\n",
       "      <td>0.71</td>\n",
       "      <td>10.2</td>\n",
       "    </tr>\n",
       "    <tr>\n",
       "      <th>1598</th>\n",
       "      <td>6.0</td>\n",
       "      <td>0.310</td>\n",
       "      <td>0.47</td>\n",
       "      <td>3.6</td>\n",
       "      <td>0.067</td>\n",
       "      <td>18.0</td>\n",
       "      <td>42.0</td>\n",
       "      <td>0.99549</td>\n",
       "      <td>3.39</td>\n",
       "      <td>0.66</td>\n",
       "      <td>11.0</td>\n",
       "    </tr>\n",
       "  </tbody>\n",
       "</table>\n",
       "<p>1599 rows × 11 columns</p>\n",
       "</div>"
      ],
      "text/plain": [
       "      fixed acidity  volatile acidity  citric acid  residual sugar  chlorides  \\\n",
       "0               7.4             0.700         0.00             1.9      0.076   \n",
       "1               7.8             0.880         0.00             2.6      0.098   \n",
       "2               7.8             0.760         0.04             2.3      0.092   \n",
       "3              11.2             0.280         0.56             1.9      0.075   \n",
       "4               7.4             0.700         0.00             1.9      0.076   \n",
       "...             ...               ...          ...             ...        ...   \n",
       "1594            6.2             0.600         0.08             2.0      0.090   \n",
       "1595            5.9             0.550         0.10             2.2      0.062   \n",
       "1596            6.3             0.510         0.13             2.3      0.076   \n",
       "1597            5.9             0.645         0.12             2.0      0.075   \n",
       "1598            6.0             0.310         0.47             3.6      0.067   \n",
       "\n",
       "      free sulfur dioxide  total sulfur dioxide  density    pH  sulphates  \\\n",
       "0                    11.0                  34.0  0.99780  3.51       0.56   \n",
       "1                    25.0                  67.0  0.99680  3.20       0.68   \n",
       "2                    15.0                  54.0  0.99700  3.26       0.65   \n",
       "3                    17.0                  60.0  0.99800  3.16       0.58   \n",
       "4                    11.0                  34.0  0.99780  3.51       0.56   \n",
       "...                   ...                   ...      ...   ...        ...   \n",
       "1594                 32.0                  44.0  0.99490  3.45       0.58   \n",
       "1595                 39.0                  51.0  0.99512  3.52       0.76   \n",
       "1596                 29.0                  40.0  0.99574  3.42       0.75   \n",
       "1597                 32.0                  44.0  0.99547  3.57       0.71   \n",
       "1598                 18.0                  42.0  0.99549  3.39       0.66   \n",
       "\n",
       "      alcohol  \n",
       "0         9.4  \n",
       "1         9.8  \n",
       "2         9.8  \n",
       "3         9.8  \n",
       "4         9.4  \n",
       "...       ...  \n",
       "1594     10.5  \n",
       "1595     11.2  \n",
       "1596     11.0  \n",
       "1597     10.2  \n",
       "1598     11.0  \n",
       "\n",
       "[1599 rows x 11 columns]"
      ]
     },
     "execution_count": 12,
     "metadata": {},
     "output_type": "execute_result"
    }
   ],
   "source": [
    "#separating the data set into input & output data\n",
    "\n",
    "#input data\n",
    "x= wine_ds.iloc[:,0:11]\n",
    "x"
   ]
  },
  {
   "cell_type": "code",
   "execution_count": 13,
   "id": "c95140eb",
   "metadata": {},
   "outputs": [
    {
     "data": {
      "text/html": [
       "<div>\n",
       "<style scoped>\n",
       "    .dataframe tbody tr th:only-of-type {\n",
       "        vertical-align: middle;\n",
       "    }\n",
       "\n",
       "    .dataframe tbody tr th {\n",
       "        vertical-align: top;\n",
       "    }\n",
       "\n",
       "    .dataframe thead th {\n",
       "        text-align: right;\n",
       "    }\n",
       "</style>\n",
       "<table border=\"1\" class=\"dataframe\">\n",
       "  <thead>\n",
       "    <tr style=\"text-align: right;\">\n",
       "      <th></th>\n",
       "      <th>quality</th>\n",
       "    </tr>\n",
       "  </thead>\n",
       "  <tbody>\n",
       "    <tr>\n",
       "      <th>0</th>\n",
       "      <td>5</td>\n",
       "    </tr>\n",
       "    <tr>\n",
       "      <th>1</th>\n",
       "      <td>5</td>\n",
       "    </tr>\n",
       "    <tr>\n",
       "      <th>2</th>\n",
       "      <td>5</td>\n",
       "    </tr>\n",
       "    <tr>\n",
       "      <th>3</th>\n",
       "      <td>6</td>\n",
       "    </tr>\n",
       "    <tr>\n",
       "      <th>4</th>\n",
       "      <td>5</td>\n",
       "    </tr>\n",
       "    <tr>\n",
       "      <th>...</th>\n",
       "      <td>...</td>\n",
       "    </tr>\n",
       "    <tr>\n",
       "      <th>1594</th>\n",
       "      <td>5</td>\n",
       "    </tr>\n",
       "    <tr>\n",
       "      <th>1595</th>\n",
       "      <td>6</td>\n",
       "    </tr>\n",
       "    <tr>\n",
       "      <th>1596</th>\n",
       "      <td>6</td>\n",
       "    </tr>\n",
       "    <tr>\n",
       "      <th>1597</th>\n",
       "      <td>5</td>\n",
       "    </tr>\n",
       "    <tr>\n",
       "      <th>1598</th>\n",
       "      <td>6</td>\n",
       "    </tr>\n",
       "  </tbody>\n",
       "</table>\n",
       "<p>1599 rows × 1 columns</p>\n",
       "</div>"
      ],
      "text/plain": [
       "      quality\n",
       "0           5\n",
       "1           5\n",
       "2           5\n",
       "3           6\n",
       "4           5\n",
       "...       ...\n",
       "1594        5\n",
       "1595        6\n",
       "1596        6\n",
       "1597        5\n",
       "1598        6\n",
       "\n",
       "[1599 rows x 1 columns]"
      ]
     },
     "execution_count": 13,
     "metadata": {},
     "output_type": "execute_result"
    }
   ],
   "source": [
    "#output data\n",
    "y= wine_ds.iloc[:,11:]\n",
    "y"
   ]
  },
  {
   "cell_type": "code",
   "execution_count": 14,
   "id": "81a50234",
   "metadata": {},
   "outputs": [],
   "source": [
    "#checking outliers\n"
   ]
  },
  {
   "cell_type": "code",
   "execution_count": 15,
   "id": "5a203cee",
   "metadata": {},
   "outputs": [
    {
     "data": {
      "text/plain": [
       "<AxesSubplot:>"
      ]
     },
     "execution_count": 15,
     "metadata": {},
     "output_type": "execute_result"
    },
    {
     "data": {
      "image/png": "[encoded data removed]",
      "text/plain": [
       "<Figure size 432x288 with 1 Axes>"
      ]
     },
     "metadata": {
      "needs_background": "light"
     },
     "output_type": "display_data"
    }
   ],
   "source": [
    "wine_ds['fixed acidity'].plot.box()"
   ]
  },
  {
   "cell_type": "code",
   "execution_count": 16,
   "id": "a672cec3",
   "metadata": {},
   "outputs": [
    {
     "data": {
      "text/plain": [
       "<AxesSubplot:>"
      ]
     },
     "execution_count": 16,
     "metadata": {},
     "output_type": "execute_result"
    },
    {
     "data": {
      "image/png": "[encoded data removed]",
      "text/plain": [
       "<Figure size 432x288 with 1 Axes>"
      ]
     },
     "metadata": {
      "needs_background": "light"
     },
     "output_type": "display_data"
    }
   ],
   "source": [
    "wine_ds['volatile acidity'].plot.box()\n",
    "\n",
    "#outliers are present"
   ]
  },
  {
   "cell_type": "code",
   "execution_count": 17,
   "id": "7a121ac5",
   "metadata": {},
   "outputs": [
    {
     "data": {
      "text/plain": [
       "<AxesSubplot:>"
      ]
     },
     "execution_count": 17,
     "metadata": {},
     "output_type": "execute_result"
    },
    {
     "data": {
      "image/png": "[encoded data removed]",
      "text/plain": [
       "<Figure size 432x288 with 1 Axes>"
      ]
     },
     "metadata": {
      "needs_background": "light"
     },
     "output_type": "display_data"
    }
   ],
   "source": [
    "wine_ds['citric acid'].plot.box()\n",
    "#outliers are present"
   ]
  },
  {
   "cell_type": "code",
   "execution_count": 18,
   "id": "8b027f6a",
   "metadata": {},
   "outputs": [
    {
     "data": {
      "text/plain": [
       "<AxesSubplot:>"
      ]
     },
     "execution_count": 18,
     "metadata": {},
     "output_type": "execute_result"
    },
    {
     "data": {
      "image/png": "[encoded data removed]",
      "text/plain": [
       "<Figure size 432x288 with 1 Axes>"
      ]
     },
     "metadata": {
      "needs_background": "light"
     },
     "output_type": "display_data"
    }
   ],
   "source": [
    "wine_ds['residual sugar'].plot.box()"
   ]
  },
  {
   "cell_type": "code",
   "execution_count": 19,
   "id": "6b3827ca",
   "metadata": {},
   "outputs": [
    {
     "data": {
      "text/plain": [
       "<AxesSubplot:>"
      ]
     },
     "execution_count": 19,
     "metadata": {},
     "output_type": "execute_result"
    },
    {
     "data": {
      "image/png": "[encoded data removed]",
      "text/plain": [
       "<Figure size 432x288 with 1 Axes>"
      ]
     },
     "metadata": {
      "needs_background": "light"
     },
     "output_type": "display_data"
    }
   ],
   "source": [
    "wine_ds['chlorides'].plot.box()\n",
    "\n",
    "#outliers are present"
   ]
  },
  {
   "cell_type": "code",
   "execution_count": 20,
   "id": "f55508ae",
   "metadata": {},
   "outputs": [
    {
     "data": {
      "text/plain": [
       "<AxesSubplot:>"
      ]
     },
     "execution_count": 20,
     "metadata": {},
     "output_type": "execute_result"
    },
    {
     "data": {
      "image/png": "[encoded data removed]",
      "text/plain": [
       "<Figure size 432x288 with 1 Axes>"
      ]
     },
     "metadata": {
      "needs_background": "light"
     },
     "output_type": "display_data"
    }
   ],
   "source": [
    "wine_ds['free sulfur dioxide'].plot.box()"
   ]
  },
  {
   "cell_type": "code",
   "execution_count": 21,
   "id": "4575ab5c",
   "metadata": {},
   "outputs": [
    {
     "data": {
      "text/plain": [
       "<AxesSubplot:>"
      ]
     },
     "execution_count": 21,
     "metadata": {},
     "output_type": "execute_result"
    },
    {
     "data": {
      "image/png": "[encoded data removed]",
      "text/plain": [
       "<Figure size 432x288 with 1 Axes>"
      ]
     },
     "metadata": {
      "needs_background": "light"
     },
     "output_type": "display_data"
    }
   ],
   "source": [
    "wine_ds['total sulfur dioxide'].plot.box()\n",
    "#outliers are present"
   ]
  },
  {
   "cell_type": "code",
   "execution_count": 22,
   "id": "c48f213d",
   "metadata": {},
   "outputs": [
    {
     "data": {
      "text/plain": [
       "<AxesSubplot:>"
      ]
     },
     "execution_count": 22,
     "metadata": {},
     "output_type": "execute_result"
    },
    {
     "data": {
      "image/png": "[encoded data removed]",
      "text/plain": [
       "<Figure size 432x288 with 1 Axes>"
      ]
     },
     "metadata": {
      "needs_background": "light"
     },
     "output_type": "display_data"
    }
   ],
   "source": [
    "wine_ds['density'].plot.box()"
   ]
  },
  {
   "cell_type": "code",
   "execution_count": 23,
   "id": "ad893fce",
   "metadata": {},
   "outputs": [
    {
     "data": {
      "text/plain": [
       "<AxesSubplot:>"
      ]
     },
     "execution_count": 23,
     "metadata": {},
     "output_type": "execute_result"
    },
    {
     "data": {
      "image/png": "[encoded data removed]",
      "text/plain": [
       "<Figure size 432x288 with 1 Axes>"
      ]
     },
     "metadata": {
      "needs_background": "light"
     },
     "output_type": "display_data"
    }
   ],
   "source": [
    "wine_ds['pH'].plot.box()"
   ]
  },
  {
   "cell_type": "code",
   "execution_count": 24,
   "id": "dbe33e5d",
   "metadata": {},
   "outputs": [
    {
     "data": {
      "text/plain": [
       "<AxesSubplot:>"
      ]
     },
     "execution_count": 24,
     "metadata": {},
     "output_type": "execute_result"
    },
    {
     "data": {
      "image/png": "[encoded data removed]",
      "text/plain": [
       "<Figure size 432x288 with 1 Axes>"
      ]
     },
     "metadata": {
      "needs_background": "light"
     },
     "output_type": "display_data"
    }
   ],
   "source": [
    "wine_ds['sulphates'].plot.box()"
   ]
  },
  {
   "cell_type": "code",
   "execution_count": 25,
   "id": "17b6622d",
   "metadata": {},
   "outputs": [
    {
     "data": {
      "text/plain": [
       "<AxesSubplot:>"
      ]
     },
     "execution_count": 25,
     "metadata": {},
     "output_type": "execute_result"
    },
    {
     "data": {
      "image/png": "[encoded data removed]",
      "text/plain": [
       "<Figure size 432x288 with 1 Axes>"
      ]
     },
     "metadata": {
      "needs_background": "light"
     },
     "output_type": "display_data"
    }
   ],
   "source": [
    "wine_ds['alcohol'].plot.box()"
   ]
  },
  {
   "cell_type": "code",
   "execution_count": 26,
   "id": "e14daa12",
   "metadata": {},
   "outputs": [
    {
     "data": {
      "text/plain": [
       "(1599, 12)"
      ]
     },
     "execution_count": 26,
     "metadata": {},
     "output_type": "execute_result"
    }
   ],
   "source": [
    "#removing outliers\n",
    "#importing z score\n",
    "from scipy.stats import zscore\n",
    "import numpy as np\n",
    "z=np.abs(zscore(wine_ds))\n",
    "z.shape"
   ]
  },
  {
   "cell_type": "code",
   "execution_count": 27,
   "id": "ea6b96e9",
   "metadata": {},
   "outputs": [
    {
     "name": "stdout",
     "output_type": "stream",
     "text": [
      "(array([  13,   14,   15,   15,   17,   17,   19,   33,   38,   42,   43,\n",
      "         45,   57,   81,   81,   83,   86,   88,   91,   92,   95,  106,\n",
      "        106,  109,  120,  126,  127,  142,  144,  147,  151,  151,  151,\n",
      "        151,  163,  164,  169,  169,  181,  199,  226,  226,  240,  243,\n",
      "        244,  258,  258,  274,  281,  291,  324,  325,  339,  340,  347,\n",
      "        354,  374,  381,  391,  396,  396,  400,  400,  442,  442,  451,\n",
      "        459,  467,  480,  480,  494,  515,  517,  544,  554,  554,  555,\n",
      "        555,  557,  557,  568,  584,  588,  591,  595,  608,  614,  636,\n",
      "        639,  649,  649,  651,  652,  652,  652,  672,  672,  684,  690,\n",
      "        690,  692,  692,  695,  723,  724,  730,  754,  776,  777,  795,\n",
      "        821,  832,  836,  837,  889,  899,  911,  917,  923,  925,  926,\n",
      "        982, 1017, 1018, 1043, 1051, 1051, 1071, 1074, 1079, 1079, 1081,\n",
      "       1081, 1111, 1114, 1131, 1154, 1165, 1175, 1186, 1231, 1235, 1244,\n",
      "       1244, 1244, 1260, 1269, 1269, 1270, 1270, 1288, 1289, 1295, 1296,\n",
      "       1299, 1299, 1300, 1312, 1316, 1319, 1319, 1321, 1358, 1367, 1370,\n",
      "       1370, 1372, 1372, 1374, 1374, 1434, 1434, 1434, 1435, 1435, 1435,\n",
      "       1469, 1474, 1474, 1474, 1476, 1476, 1476, 1478, 1493, 1496, 1505,\n",
      "       1558, 1558, 1570, 1574, 1589], dtype=int64), array([ 9,  5,  5,  6,  4,  9,  4,  3,  1,  4,  9,  8,  5,  4,  9,  4,  9,\n",
      "        9,  9,  9,  8,  4,  9,  6,  1,  1,  1, 10, 10,  4,  2,  4,  8,  9,\n",
      "        3,  3,  4,  9,  4,  1,  4,  9,  4,  0,  0,  4,  9,  3,  4,  4,  3,\n",
      "        3,  9,  9,  0,  6,  0,  0,  0,  3,  5,  3,  5,  0,  7,  4, 11, 10,\n",
      "        3,  7,  3,  6, 11,  0,  0,  7,  0,  7,  0,  7,  4,  5, 10,  6,  3,\n",
      "        7,  9,  6,  9,  3,  6,  6,  0,  3, 10,  1,  6,  6,  1, 11,  4,  9,\n",
      "        8,  9,  1,  4,  4,  4,  4,  9, 10, 11,  7,  7,  7, 11,  3,  3,  3,\n",
      "        5,  5,  5,  7,  7,  3,  4,  9,  3,  3,  3,  6,  3,  6,  8,  7,  5,\n",
      "        5,  4,  5,  3,  5,  3,  3,  5,  6,  4,  7, 10,  7, 10,  9,  9,  5,\n",
      "        5,  1, 11,  8,  1,  8,  4,  9,  8,  5,  9,  4,  9,  4,  9,  4, 11,\n",
      "        3,  5,  7,  3,  5,  7, 11,  3,  5,  7,  3,  5,  7, 11,  6,  6, 11,\n",
      "        4,  5,  4,  3,  3], dtype=int64))\n"
     ]
    }
   ],
   "source": [
    "threshold=3\n",
    "print(np.where(z>3))\n",
    "\n",
    "\n",
    "#the values where outliers are present"
   ]
  },
  {
   "cell_type": "code",
   "execution_count": 28,
   "id": "b70fab85",
   "metadata": {},
   "outputs": [
    {
     "data": {
      "text/plain": [
       "192"
      ]
     },
     "execution_count": 28,
     "metadata": {},
     "output_type": "execute_result"
    }
   ],
   "source": [
    "#total number of outliers presnt are:\n",
    "len(np.where(z>3)[0])"
   ]
  },
  {
   "cell_type": "code",
   "execution_count": 29,
   "id": "dca9ae3b",
   "metadata": {},
   "outputs": [
    {
     "data": {
      "text/html": [
       "<div>\n",
       "<style scoped>\n",
       "    .dataframe tbody tr th:only-of-type {\n",
       "        vertical-align: middle;\n",
       "    }\n",
       "\n",
       "    .dataframe tbody tr th {\n",
       "        vertical-align: top;\n",
       "    }\n",
       "\n",
       "    .dataframe thead th {\n",
       "        text-align: right;\n",
       "    }\n",
       "</style>\n",
       "<table border=\"1\" class=\"dataframe\">\n",
       "  <thead>\n",
       "    <tr style=\"text-align: right;\">\n",
       "      <th></th>\n",
       "      <th>fixed acidity</th>\n",
       "      <th>volatile acidity</th>\n",
       "      <th>citric acid</th>\n",
       "      <th>residual sugar</th>\n",
       "      <th>chlorides</th>\n",
       "      <th>free sulfur dioxide</th>\n",
       "      <th>total sulfur dioxide</th>\n",
       "      <th>density</th>\n",
       "      <th>pH</th>\n",
       "      <th>sulphates</th>\n",
       "      <th>alcohol</th>\n",
       "      <th>quality</th>\n",
       "    </tr>\n",
       "  </thead>\n",
       "  <tbody>\n",
       "    <tr>\n",
       "      <th>0</th>\n",
       "      <td>7.4</td>\n",
       "      <td>0.700</td>\n",
       "      <td>0.00</td>\n",
       "      <td>1.9</td>\n",
       "      <td>0.076</td>\n",
       "      <td>11.0</td>\n",
       "      <td>34.0</td>\n",
       "      <td>0.99780</td>\n",
       "      <td>3.51</td>\n",
       "      <td>0.56</td>\n",
       "      <td>9.4</td>\n",
       "      <td>5</td>\n",
       "    </tr>\n",
       "    <tr>\n",
       "      <th>1</th>\n",
       "      <td>7.8</td>\n",
       "      <td>0.880</td>\n",
       "      <td>0.00</td>\n",
       "      <td>2.6</td>\n",
       "      <td>0.098</td>\n",
       "      <td>25.0</td>\n",
       "      <td>67.0</td>\n",
       "      <td>0.99680</td>\n",
       "      <td>3.20</td>\n",
       "      <td>0.68</td>\n",
       "      <td>9.8</td>\n",
       "      <td>5</td>\n",
       "    </tr>\n",
       "    <tr>\n",
       "      <th>2</th>\n",
       "      <td>7.8</td>\n",
       "      <td>0.760</td>\n",
       "      <td>0.04</td>\n",
       "      <td>2.3</td>\n",
       "      <td>0.092</td>\n",
       "      <td>15.0</td>\n",
       "      <td>54.0</td>\n",
       "      <td>0.99700</td>\n",
       "      <td>3.26</td>\n",
       "      <td>0.65</td>\n",
       "      <td>9.8</td>\n",
       "      <td>5</td>\n",
       "    </tr>\n",
       "    <tr>\n",
       "      <th>3</th>\n",
       "      <td>11.2</td>\n",
       "      <td>0.280</td>\n",
       "      <td>0.56</td>\n",
       "      <td>1.9</td>\n",
       "      <td>0.075</td>\n",
       "      <td>17.0</td>\n",
       "      <td>60.0</td>\n",
       "      <td>0.99800</td>\n",
       "      <td>3.16</td>\n",
       "      <td>0.58</td>\n",
       "      <td>9.8</td>\n",
       "      <td>6</td>\n",
       "    </tr>\n",
       "    <tr>\n",
       "      <th>4</th>\n",
       "      <td>7.4</td>\n",
       "      <td>0.700</td>\n",
       "      <td>0.00</td>\n",
       "      <td>1.9</td>\n",
       "      <td>0.076</td>\n",
       "      <td>11.0</td>\n",
       "      <td>34.0</td>\n",
       "      <td>0.99780</td>\n",
       "      <td>3.51</td>\n",
       "      <td>0.56</td>\n",
       "      <td>9.4</td>\n",
       "      <td>5</td>\n",
       "    </tr>\n",
       "    <tr>\n",
       "      <th>...</th>\n",
       "      <td>...</td>\n",
       "      <td>...</td>\n",
       "      <td>...</td>\n",
       "      <td>...</td>\n",
       "      <td>...</td>\n",
       "      <td>...</td>\n",
       "      <td>...</td>\n",
       "      <td>...</td>\n",
       "      <td>...</td>\n",
       "      <td>...</td>\n",
       "      <td>...</td>\n",
       "      <td>...</td>\n",
       "    </tr>\n",
       "    <tr>\n",
       "      <th>1594</th>\n",
       "      <td>6.2</td>\n",
       "      <td>0.600</td>\n",
       "      <td>0.08</td>\n",
       "      <td>2.0</td>\n",
       "      <td>0.090</td>\n",
       "      <td>32.0</td>\n",
       "      <td>44.0</td>\n",
       "      <td>0.99490</td>\n",
       "      <td>3.45</td>\n",
       "      <td>0.58</td>\n",
       "      <td>10.5</td>\n",
       "      <td>5</td>\n",
       "    </tr>\n",
       "    <tr>\n",
       "      <th>1595</th>\n",
       "      <td>5.9</td>\n",
       "      <td>0.550</td>\n",
       "      <td>0.10</td>\n",
       "      <td>2.2</td>\n",
       "      <td>0.062</td>\n",
       "      <td>39.0</td>\n",
       "      <td>51.0</td>\n",
       "      <td>0.99512</td>\n",
       "      <td>3.52</td>\n",
       "      <td>0.76</td>\n",
       "      <td>11.2</td>\n",
       "      <td>6</td>\n",
       "    </tr>\n",
       "    <tr>\n",
       "      <th>1596</th>\n",
       "      <td>6.3</td>\n",
       "      <td>0.510</td>\n",
       "      <td>0.13</td>\n",
       "      <td>2.3</td>\n",
       "      <td>0.076</td>\n",
       "      <td>29.0</td>\n",
       "      <td>40.0</td>\n",
       "      <td>0.99574</td>\n",
       "      <td>3.42</td>\n",
       "      <td>0.75</td>\n",
       "      <td>11.0</td>\n",
       "      <td>6</td>\n",
       "    </tr>\n",
       "    <tr>\n",
       "      <th>1597</th>\n",
       "      <td>5.9</td>\n",
       "      <td>0.645</td>\n",
       "      <td>0.12</td>\n",
       "      <td>2.0</td>\n",
       "      <td>0.075</td>\n",
       "      <td>32.0</td>\n",
       "      <td>44.0</td>\n",
       "      <td>0.99547</td>\n",
       "      <td>3.57</td>\n",
       "      <td>0.71</td>\n",
       "      <td>10.2</td>\n",
       "      <td>5</td>\n",
       "    </tr>\n",
       "    <tr>\n",
       "      <th>1598</th>\n",
       "      <td>6.0</td>\n",
       "      <td>0.310</td>\n",
       "      <td>0.47</td>\n",
       "      <td>3.6</td>\n",
       "      <td>0.067</td>\n",
       "      <td>18.0</td>\n",
       "      <td>42.0</td>\n",
       "      <td>0.99549</td>\n",
       "      <td>3.39</td>\n",
       "      <td>0.66</td>\n",
       "      <td>11.0</td>\n",
       "      <td>6</td>\n",
       "    </tr>\n",
       "  </tbody>\n",
       "</table>\n",
       "<p>1451 rows × 12 columns</p>\n",
       "</div>"
      ],
      "text/plain": [
       "      fixed acidity  volatile acidity  citric acid  residual sugar  chlorides  \\\n",
       "0               7.4             0.700         0.00             1.9      0.076   \n",
       "1               7.8             0.880         0.00             2.6      0.098   \n",
       "2               7.8             0.760         0.04             2.3      0.092   \n",
       "3              11.2             0.280         0.56             1.9      0.075   \n",
       "4               7.4             0.700         0.00             1.9      0.076   \n",
       "...             ...               ...          ...             ...        ...   \n",
       "1594            6.2             0.600         0.08             2.0      0.090   \n",
       "1595            5.9             0.550         0.10             2.2      0.062   \n",
       "1596            6.3             0.510         0.13             2.3      0.076   \n",
       "1597            5.9             0.645         0.12             2.0      0.075   \n",
       "1598            6.0             0.310         0.47             3.6      0.067   \n",
       "\n",
       "      free sulfur dioxide  total sulfur dioxide  density    pH  sulphates  \\\n",
       "0                    11.0                  34.0  0.99780  3.51       0.56   \n",
       "1                    25.0                  67.0  0.99680  3.20       0.68   \n",
       "2                    15.0                  54.0  0.99700  3.26       0.65   \n",
       "3                    17.0                  60.0  0.99800  3.16       0.58   \n",
       "4                    11.0                  34.0  0.99780  3.51       0.56   \n",
       "...                   ...                   ...      ...   ...        ...   \n",
       "1594                 32.0                  44.0  0.99490  3.45       0.58   \n",
       "1595                 39.0                  51.0  0.99512  3.52       0.76   \n",
       "1596                 29.0                  40.0  0.99574  3.42       0.75   \n",
       "1597                 32.0                  44.0  0.99547  3.57       0.71   \n",
       "1598                 18.0                  42.0  0.99549  3.39       0.66   \n",
       "\n",
       "      alcohol  quality  \n",
       "0         9.4        5  \n",
       "1         9.8        5  \n",
       "2         9.8        5  \n",
       "3         9.8        6  \n",
       "4         9.4        5  \n",
       "...       ...      ...  \n",
       "1594     10.5        5  \n",
       "1595     11.2        6  \n",
       "1596     11.0        6  \n",
       "1597     10.2        5  \n",
       "1598     11.0        6  \n",
       "\n",
       "[1451 rows x 12 columns]"
      ]
     },
     "execution_count": 29,
     "metadata": {},
     "output_type": "execute_result"
    }
   ],
   "source": [
    "#dropping the outliers\n",
    "wine_data=wine_ds[(z<3).all(axis=1)]\n",
    "wine_data\n"
   ]
  },
  {
   "cell_type": "code",
   "execution_count": 30,
   "id": "4b67ef69",
   "metadata": {},
   "outputs": [
    {
     "name": "stdout",
     "output_type": "stream",
     "text": [
      "old wine data frame  (1599, 12)\n",
      "new wine data frame  (1451, 12)\n",
      "total dropped rows  148\n"
     ]
    }
   ],
   "source": [
    "print(\"old wine data frame \", wine_ds.shape)\n",
    "print(\"new wine data frame \", wine_data.shape)\n",
    "print(\"total dropped rows \", wine_ds.shape[0]-wine_data.shape[0])"
   ]
  },
  {
   "cell_type": "code",
   "execution_count": 31,
   "id": "f3de5451",
   "metadata": {},
   "outputs": [
    {
     "data": {
      "text/plain": [
       "9.255784865540964"
      ]
     },
     "execution_count": 31,
     "metadata": {},
     "output_type": "execute_result"
    }
   ],
   "source": [
    "#data loss percent\n",
    "loss_percent = ((1599-1451)/1599)*100\n",
    "loss_percent\n",
    "\n",
    "\n",
    "#9.25% data is removed after removing outliers"
   ]
  },
  {
   "cell_type": "code",
   "execution_count": 32,
   "id": "de5b8c76",
   "metadata": {},
   "outputs": [
    {
     "data": {
      "text/html": [
       "<div>\n",
       "<style scoped>\n",
       "    .dataframe tbody tr th:only-of-type {\n",
       "        vertical-align: middle;\n",
       "    }\n",
       "\n",
       "    .dataframe tbody tr th {\n",
       "        vertical-align: top;\n",
       "    }\n",
       "\n",
       "    .dataframe thead th {\n",
       "        text-align: right;\n",
       "    }\n",
       "</style>\n",
       "<table border=\"1\" class=\"dataframe\">\n",
       "  <thead>\n",
       "    <tr style=\"text-align: right;\">\n",
       "      <th></th>\n",
       "      <th>fixed acidity</th>\n",
       "      <th>volatile acidity</th>\n",
       "      <th>citric acid</th>\n",
       "      <th>residual sugar</th>\n",
       "      <th>chlorides</th>\n",
       "      <th>free sulfur dioxide</th>\n",
       "      <th>total sulfur dioxide</th>\n",
       "      <th>density</th>\n",
       "      <th>pH</th>\n",
       "      <th>sulphates</th>\n",
       "      <th>alcohol</th>\n",
       "      <th>quality</th>\n",
       "    </tr>\n",
       "  </thead>\n",
       "  <tbody>\n",
       "    <tr>\n",
       "      <th>fixed acidity</th>\n",
       "      <td>1.000000</td>\n",
       "      <td>-0.297150</td>\n",
       "      <td>0.698363</td>\n",
       "      <td>0.180293</td>\n",
       "      <td>0.183549</td>\n",
       "      <td>-0.148815</td>\n",
       "      <td>-0.099928</td>\n",
       "      <td>0.659927</td>\n",
       "      <td>-0.705572</td>\n",
       "      <td>0.200371</td>\n",
       "      <td>-0.015114</td>\n",
       "      <td>0.145163</td>\n",
       "    </tr>\n",
       "    <tr>\n",
       "      <th>volatile acidity</th>\n",
       "      <td>-0.297150</td>\n",
       "      <td>1.000000</td>\n",
       "      <td>-0.589452</td>\n",
       "      <td>0.025977</td>\n",
       "      <td>0.072709</td>\n",
       "      <td>0.013943</td>\n",
       "      <td>0.110338</td>\n",
       "      <td>-0.004957</td>\n",
       "      <td>0.251343</td>\n",
       "      <td>-0.348126</td>\n",
       "      <td>-0.213213</td>\n",
       "      <td>-0.353443</td>\n",
       "    </tr>\n",
       "    <tr>\n",
       "      <th>citric acid</th>\n",
       "      <td>0.698363</td>\n",
       "      <td>-0.589452</td>\n",
       "      <td>1.000000</td>\n",
       "      <td>0.184960</td>\n",
       "      <td>0.100361</td>\n",
       "      <td>-0.074441</td>\n",
       "      <td>0.005301</td>\n",
       "      <td>0.371729</td>\n",
       "      <td>-0.520311</td>\n",
       "      <td>0.302815</td>\n",
       "      <td>0.168766</td>\n",
       "      <td>0.243999</td>\n",
       "    </tr>\n",
       "    <tr>\n",
       "      <th>residual sugar</th>\n",
       "      <td>0.180293</td>\n",
       "      <td>0.025977</td>\n",
       "      <td>0.184960</td>\n",
       "      <td>1.000000</td>\n",
       "      <td>0.126735</td>\n",
       "      <td>-0.000844</td>\n",
       "      <td>0.095093</td>\n",
       "      <td>0.344801</td>\n",
       "      <td>-0.075140</td>\n",
       "      <td>0.076129</td>\n",
       "      <td>0.162533</td>\n",
       "      <td>0.061482</td>\n",
       "    </tr>\n",
       "    <tr>\n",
       "      <th>chlorides</th>\n",
       "      <td>0.183549</td>\n",
       "      <td>0.072709</td>\n",
       "      <td>0.100361</td>\n",
       "      <td>0.126735</td>\n",
       "      <td>1.000000</td>\n",
       "      <td>-0.058163</td>\n",
       "      <td>0.045025</td>\n",
       "      <td>0.328695</td>\n",
       "      <td>-0.182841</td>\n",
       "      <td>0.022107</td>\n",
       "      <td>-0.205414</td>\n",
       "      <td>-0.108787</td>\n",
       "    </tr>\n",
       "    <tr>\n",
       "      <th>free sulfur dioxide</th>\n",
       "      <td>-0.148815</td>\n",
       "      <td>0.013943</td>\n",
       "      <td>-0.074441</td>\n",
       "      <td>-0.000844</td>\n",
       "      <td>-0.058163</td>\n",
       "      <td>1.000000</td>\n",
       "      <td>0.660188</td>\n",
       "      <td>-0.037630</td>\n",
       "      <td>0.108831</td>\n",
       "      <td>0.055956</td>\n",
       "      <td>-0.077993</td>\n",
       "      <td>-0.071202</td>\n",
       "    </tr>\n",
       "    <tr>\n",
       "      <th>total sulfur dioxide</th>\n",
       "      <td>-0.099928</td>\n",
       "      <td>0.110338</td>\n",
       "      <td>0.005301</td>\n",
       "      <td>0.095093</td>\n",
       "      <td>0.045025</td>\n",
       "      <td>0.660188</td>\n",
       "      <td>1.000000</td>\n",
       "      <td>0.118965</td>\n",
       "      <td>-0.005940</td>\n",
       "      <td>-0.039024</td>\n",
       "      <td>-0.259952</td>\n",
       "      <td>-0.237745</td>\n",
       "    </tr>\n",
       "    <tr>\n",
       "      <th>density</th>\n",
       "      <td>0.659927</td>\n",
       "      <td>-0.004957</td>\n",
       "      <td>0.371729</td>\n",
       "      <td>0.344801</td>\n",
       "      <td>0.328695</td>\n",
       "      <td>-0.037630</td>\n",
       "      <td>0.118965</td>\n",
       "      <td>1.000000</td>\n",
       "      <td>-0.312310</td>\n",
       "      <td>0.129896</td>\n",
       "      <td>-0.468312</td>\n",
       "      <td>-0.167568</td>\n",
       "    </tr>\n",
       "    <tr>\n",
       "      <th>pH</th>\n",
       "      <td>-0.705572</td>\n",
       "      <td>0.251343</td>\n",
       "      <td>-0.520311</td>\n",
       "      <td>-0.075140</td>\n",
       "      <td>-0.182841</td>\n",
       "      <td>0.108831</td>\n",
       "      <td>-0.005940</td>\n",
       "      <td>-0.312310</td>\n",
       "      <td>1.000000</td>\n",
       "      <td>-0.039082</td>\n",
       "      <td>0.135624</td>\n",
       "      <td>-0.082164</td>\n",
       "    </tr>\n",
       "    <tr>\n",
       "      <th>sulphates</th>\n",
       "      <td>0.200371</td>\n",
       "      <td>-0.348126</td>\n",
       "      <td>0.302815</td>\n",
       "      <td>0.076129</td>\n",
       "      <td>0.022107</td>\n",
       "      <td>0.055956</td>\n",
       "      <td>-0.039024</td>\n",
       "      <td>0.129896</td>\n",
       "      <td>-0.039082</td>\n",
       "      <td>1.000000</td>\n",
       "      <td>0.241636</td>\n",
       "      <td>0.386567</td>\n",
       "    </tr>\n",
       "    <tr>\n",
       "      <th>alcohol</th>\n",
       "      <td>-0.015114</td>\n",
       "      <td>-0.213213</td>\n",
       "      <td>0.168766</td>\n",
       "      <td>0.162533</td>\n",
       "      <td>-0.205414</td>\n",
       "      <td>-0.077993</td>\n",
       "      <td>-0.259952</td>\n",
       "      <td>-0.468312</td>\n",
       "      <td>0.135624</td>\n",
       "      <td>0.241636</td>\n",
       "      <td>1.000000</td>\n",
       "      <td>0.501501</td>\n",
       "    </tr>\n",
       "    <tr>\n",
       "      <th>quality</th>\n",
       "      <td>0.145163</td>\n",
       "      <td>-0.353443</td>\n",
       "      <td>0.243999</td>\n",
       "      <td>0.061482</td>\n",
       "      <td>-0.108787</td>\n",
       "      <td>-0.071202</td>\n",
       "      <td>-0.237745</td>\n",
       "      <td>-0.167568</td>\n",
       "      <td>-0.082164</td>\n",
       "      <td>0.386567</td>\n",
       "      <td>0.501501</td>\n",
       "      <td>1.000000</td>\n",
       "    </tr>\n",
       "  </tbody>\n",
       "</table>\n",
       "</div>"
      ],
      "text/plain": [
       "                      fixed acidity  volatile acidity  citric acid  \\\n",
       "fixed acidity              1.000000         -0.297150     0.698363   \n",
       "volatile acidity          -0.297150          1.000000    -0.589452   \n",
       "citric acid                0.698363         -0.589452     1.000000   \n",
       "residual sugar             0.180293          0.025977     0.184960   \n",
       "chlorides                  0.183549          0.072709     0.100361   \n",
       "free sulfur dioxide       -0.148815          0.013943    -0.074441   \n",
       "total sulfur dioxide      -0.099928          0.110338     0.005301   \n",
       "density                    0.659927         -0.004957     0.371729   \n",
       "pH                        -0.705572          0.251343    -0.520311   \n",
       "sulphates                  0.200371         -0.348126     0.302815   \n",
       "alcohol                   -0.015114         -0.213213     0.168766   \n",
       "quality                    0.145163         -0.353443     0.243999   \n",
       "\n",
       "                      residual sugar  chlorides  free sulfur dioxide  \\\n",
       "fixed acidity               0.180293   0.183549            -0.148815   \n",
       "volatile acidity            0.025977   0.072709             0.013943   \n",
       "citric acid                 0.184960   0.100361            -0.074441   \n",
       "residual sugar              1.000000   0.126735            -0.000844   \n",
       "chlorides                   0.126735   1.000000            -0.058163   \n",
       "free sulfur dioxide        -0.000844  -0.058163             1.000000   \n",
       "total sulfur dioxide        0.095093   0.045025             0.660188   \n",
       "density                     0.344801   0.328695            -0.037630   \n",
       "pH                         -0.075140  -0.182841             0.108831   \n",
       "sulphates                   0.076129   0.022107             0.055956   \n",
       "alcohol                     0.162533  -0.205414            -0.077993   \n",
       "quality                     0.061482  -0.108787            -0.071202   \n",
       "\n",
       "                      total sulfur dioxide   density        pH  sulphates  \\\n",
       "fixed acidity                    -0.099928  0.659927 -0.705572   0.200371   \n",
       "volatile acidity                  0.110338 -0.004957  0.251343  -0.348126   \n",
       "citric acid                       0.005301  0.371729 -0.520311   0.302815   \n",
       "residual sugar                    0.095093  0.344801 -0.075140   0.076129   \n",
       "chlorides                         0.045025  0.328695 -0.182841   0.022107   \n",
       "free sulfur dioxide               0.660188 -0.037630  0.108831   0.055956   \n",
       "total sulfur dioxide              1.000000  0.118965 -0.005940  -0.039024   \n",
       "density                           0.118965  1.000000 -0.312310   0.129896   \n",
       "pH                               -0.005940 -0.312310  1.000000  -0.039082   \n",
       "sulphates                        -0.039024  0.129896 -0.039082   1.000000   \n",
       "alcohol                          -0.259952 -0.468312  0.135624   0.241636   \n",
       "quality                          -0.237745 -0.167568 -0.082164   0.386567   \n",
       "\n",
       "                       alcohol   quality  \n",
       "fixed acidity        -0.015114  0.145163  \n",
       "volatile acidity     -0.213213 -0.353443  \n",
       "citric acid           0.168766  0.243999  \n",
       "residual sugar        0.162533  0.061482  \n",
       "chlorides            -0.205414 -0.108787  \n",
       "free sulfur dioxide  -0.077993 -0.071202  \n",
       "total sulfur dioxide -0.259952 -0.237745  \n",
       "density              -0.468312 -0.167568  \n",
       "pH                    0.135624 -0.082164  \n",
       "sulphates             0.241636  0.386567  \n",
       "alcohol               1.000000  0.501501  \n",
       "quality               0.501501  1.000000  "
      ]
     },
     "execution_count": 32,
     "metadata": {},
     "output_type": "execute_result"
    }
   ],
   "source": [
    "#Checking Correlation \n",
    "wine_data.corr()\n"
   ]
  },
  {
   "cell_type": "code",
   "execution_count": 33,
   "id": "94cfcb2a",
   "metadata": {},
   "outputs": [],
   "source": [
    "#checking for skewness\n",
    "\n",
    "#we can see that the skewness is present in columns:\n",
    "# residiual sugar\n",
    "#chlorides\n",
    "#sulphate\n",
    "#total sulphur dioxide\n",
    "#free sulphur dioxide"
   ]
  },
  {
   "cell_type": "code",
   "execution_count": 34,
   "id": "ef922f33",
   "metadata": {},
   "outputs": [
    {
     "data": {
      "text/plain": [
       "fixed acidity           0.823934\n",
       "volatile acidity        0.380659\n",
       "citric acid             0.291297\n",
       "residual sugar          2.456107\n",
       "chlorides               2.275162\n",
       "free sulfur dioxide     0.869250\n",
       "total sulfur dioxide    1.183161\n",
       "density                 0.055738\n",
       "pH                      0.114705\n",
       "sulphates               0.891492\n",
       "alcohol                 0.758958\n",
       "quality                 0.407865\n",
       "dtype: float64"
      ]
     },
     "execution_count": 34,
     "metadata": {},
     "output_type": "execute_result"
    }
   ],
   "source": [
    "wine_data.skew()"
   ]
  },
  {
   "cell_type": "code",
   "execution_count": 35,
   "id": "02365be1",
   "metadata": {},
   "outputs": [
    {
     "data": {
      "text/plain": [
       "<AxesSubplot:ylabel='Frequency'>"
      ]
     },
     "execution_count": 35,
     "metadata": {},
     "output_type": "execute_result"
    },
    {
     "data": {
      "image/png": "[encoded data removed]",
      "text/plain": [
       "<Figure size 432x288 with 1 Axes>"
      ]
     },
     "metadata": {
      "needs_background": "light"
     },
     "output_type": "display_data"
    }
   ],
   "source": [
    "wine_data['volatile acidity'].plot.hist()\n",
    "#the data distribution is very little positive skewed"
   ]
  },
  {
   "cell_type": "code",
   "execution_count": 36,
   "id": "a74f109e",
   "metadata": {},
   "outputs": [
    {
     "data": {
      "text/plain": [
       "<AxesSubplot:ylabel='Frequency'>"
      ]
     },
     "execution_count": 36,
     "metadata": {},
     "output_type": "execute_result"
    },
    {
     "data": {
      "image/png": "[encoded data removed]",
      "text/plain": [
       "<Figure size 432x288 with 1 Axes>"
      ]
     },
     "metadata": {
      "needs_background": "light"
     },
     "output_type": "display_data"
    }
   ],
   "source": [
    "wine_data['citric acid'].plot.hist()\n",
    "\n",
    "#data is not much skewed"
   ]
  },
  {
   "cell_type": "code",
   "execution_count": 37,
   "id": "f89b9645",
   "metadata": {},
   "outputs": [
    {
     "data": {
      "text/plain": [
       "<AxesSubplot:ylabel='Frequency'>"
      ]
     },
     "execution_count": 37,
     "metadata": {},
     "output_type": "execute_result"
    },
    {
     "data": {
      "image/png": "[encoded data removed]",
      "text/plain": [
       "<Figure size 432x288 with 1 Axes>"
      ]
     },
     "metadata": {
      "needs_background": "light"
     },
     "output_type": "display_data"
    }
   ],
   "source": [
    "wine_data['residual sugar'].plot.hist()\n",
    "\n",
    "#the data distribution is very high positive skewed"
   ]
  },
  {
   "cell_type": "code",
   "execution_count": 38,
   "id": "acc0819b",
   "metadata": {},
   "outputs": [
    {
     "data": {
      "text/plain": [
       "<AxesSubplot:ylabel='Frequency'>"
      ]
     },
     "execution_count": 38,
     "metadata": {},
     "output_type": "execute_result"
    },
    {
     "data": {
      "image/png": "[encoded data removed]",
      "text/plain": [
       "<Figure size 432x288 with 1 Axes>"
      ]
     },
     "metadata": {
      "needs_background": "light"
     },
     "output_type": "display_data"
    }
   ],
   "source": [
    "wine_data['chlorides'].plot.hist()\n",
    "\n",
    "#the data distribution is very high positive skewed"
   ]
  },
  {
   "cell_type": "code",
   "execution_count": 39,
   "id": "70e75f58",
   "metadata": {},
   "outputs": [
    {
     "data": {
      "text/plain": [
       "<AxesSubplot:ylabel='Frequency'>"
      ]
     },
     "execution_count": 39,
     "metadata": {},
     "output_type": "execute_result"
    },
    {
     "data": {
      "image/png": "[encoded data removed]",
      "text/plain": [
       "<Figure size 432x288 with 1 Axes>"
      ]
     },
     "metadata": {
      "needs_background": "light"
     },
     "output_type": "display_data"
    }
   ],
   "source": [
    "wine_data['free sulfur dioxide'].plot.hist()\n",
    "\n",
    "#the data distribution is slightly positive skewed"
   ]
  },
  {
   "cell_type": "code",
   "execution_count": 40,
   "id": "d9c2a7d0",
   "metadata": {},
   "outputs": [
    {
     "data": {
      "text/plain": [
       "<AxesSubplot:ylabel='Frequency'>"
      ]
     },
     "execution_count": 40,
     "metadata": {},
     "output_type": "execute_result"
    },
    {
     "data": {
      "image/png": "[encoded data removed]",
      "text/plain": [
       "<Figure size 432x288 with 1 Axes>"
      ]
     },
     "metadata": {
      "needs_background": "light"
     },
     "output_type": "display_data"
    }
   ],
   "source": [
    "wine_data['total sulfur dioxide'].plot.hist()\n",
    "\n",
    "\n",
    "#the data distribution is little positive skewed."
   ]
  },
  {
   "cell_type": "code",
   "execution_count": 41,
   "id": "2ecb21f9",
   "metadata": {},
   "outputs": [
    {
     "data": {
      "text/plain": [
       "<AxesSubplot:ylabel='Frequency'>"
      ]
     },
     "execution_count": 41,
     "metadata": {},
     "output_type": "execute_result"
    },
    {
     "data": {
      "image/png": "[encoded data removed]",
      "text/plain": [
       "<Figure size 432x288 with 1 Axes>"
      ]
     },
     "metadata": {
      "needs_background": "light"
     },
     "output_type": "display_data"
    }
   ],
   "source": [
    "wine_data['sulphates'].plot.hist()\n",
    "\n",
    "#high positive skewed"
   ]
  },
  {
   "cell_type": "code",
   "execution_count": 42,
   "id": "8e8b9814",
   "metadata": {},
   "outputs": [
    {
     "data": {
      "text/plain": [
       "<AxesSubplot:ylabel='Frequency'>"
      ]
     },
     "execution_count": 42,
     "metadata": {},
     "output_type": "execute_result"
    },
    {
     "data": {
      "image/png": "[encoded data removed]",
      "text/plain": [
       "<Figure size 432x288 with 1 Axes>"
      ]
     },
     "metadata": {
      "needs_background": "light"
     },
     "output_type": "display_data"
    }
   ],
   "source": [
    "wine_data['alcohol'].plot.hist()\n",
    "\n",
    "#fairly normal dist."
   ]
  },
  {
   "cell_type": "code",
   "execution_count": 43,
   "id": "2f9ae50d",
   "metadata": {},
   "outputs": [
    {
     "data": {
      "text/plain": [
       "array([[-4.42665887e-01,  9.95541630e-01, -1.53110932e+00, ...,\n",
       "         1.27568965e+00, -5.81649810e-01, -1.07502541e+00],\n",
       "       [-1.61307687e-01,  1.77129873e+00, -1.53110932e+00, ...,\n",
       "        -7.09517433e-01,  3.95139954e-01, -5.00859609e-01],\n",
       "       [-1.61307687e-01,  1.26980139e+00, -1.25535866e+00, ...,\n",
       "        -3.10054073e-01,  1.83771552e-01, -5.00859609e-01],\n",
       "       ...,\n",
       "       [-1.36436736e+00,  3.87065014e-04, -6.83293826e-01, ...,\n",
       "         7.18868617e-01,  8.20841495e-01,  7.34557526e-01],\n",
       "       [-1.76745837e+00,  7.28552770e-01, -7.43826364e-01, ...,\n",
       "         1.63859528e+00,  5.88343819e-01, -1.87998601e-02],\n",
       "       [-1.66263981e+00, -1.32045850e+00,  1.03107021e+00, ...,\n",
       "         5.29831617e-01,  2.56369273e-01,  7.34557526e-01]])"
      ]
     },
     "execution_count": 43,
     "metadata": {},
     "output_type": "execute_result"
    }
   ],
   "source": [
    "from sklearn.preprocessing import power_transform\n",
    "#doing power transform\n",
    "#boxcox is used when input data is>0 so yeo johnson is used.\n",
    "x=power_transform(x, method='yeo-johnson')\n",
    "x"
   ]
  },
  {
   "cell_type": "code",
   "execution_count": 44,
   "id": "dc0d4e76",
   "metadata": {},
   "outputs": [
    {
     "data": {
      "image/png": "[encoded data removed]",
      "text/plain": [
       "<Figure size 1080x504 with 2 Axes>"
      ]
     },
     "metadata": {
      "needs_background": "light"
     },
     "output_type": "display_data"
    }
   ],
   "source": [
    "#heatmap for correlation\n",
    "corr_hmap= wine_data.corr()\n",
    "plt.figure(figsize=(15,7))\n",
    "sns.heatmap(corr_hmap, annot=True, linewidths=0.9, linecolor=\"white\", fmt='.2f')\n",
    "plt.show()\n",
    "\n",
    "\n",
    "#alcohal has the most positive correlation with quality and volatile acidity has most negative correlation with quality\n"
   ]
  },
  {
   "cell_type": "code",
   "execution_count": 45,
   "id": "094cebdd",
   "metadata": {},
   "outputs": [
    {
     "data": {
      "text/html": [
       "<div>\n",
       "<style scoped>\n",
       "    .dataframe tbody tr th:only-of-type {\n",
       "        vertical-align: middle;\n",
       "    }\n",
       "\n",
       "    .dataframe tbody tr th {\n",
       "        vertical-align: top;\n",
       "    }\n",
       "\n",
       "    .dataframe thead th {\n",
       "        text-align: right;\n",
       "    }\n",
       "</style>\n",
       "<table border=\"1\" class=\"dataframe\">\n",
       "  <thead>\n",
       "    <tr style=\"text-align: right;\">\n",
       "      <th></th>\n",
       "      <th>fixed acidity</th>\n",
       "      <th>volatile acidity</th>\n",
       "      <th>citric acid</th>\n",
       "      <th>residual sugar</th>\n",
       "      <th>chlorides</th>\n",
       "      <th>free sulfur dioxide</th>\n",
       "      <th>total sulfur dioxide</th>\n",
       "      <th>density</th>\n",
       "      <th>pH</th>\n",
       "      <th>sulphates</th>\n",
       "      <th>alcohol</th>\n",
       "      <th>quality</th>\n",
       "    </tr>\n",
       "  </thead>\n",
       "  <tbody>\n",
       "    <tr>\n",
       "      <th>0</th>\n",
       "      <td>7.4</td>\n",
       "      <td>0.70</td>\n",
       "      <td>0.00</td>\n",
       "      <td>1.9</td>\n",
       "      <td>0.076</td>\n",
       "      <td>11.0</td>\n",
       "      <td>34.0</td>\n",
       "      <td>0.9978</td>\n",
       "      <td>3.51</td>\n",
       "      <td>0.56</td>\n",
       "      <td>9.4</td>\n",
       "      <td>5</td>\n",
       "    </tr>\n",
       "    <tr>\n",
       "      <th>1</th>\n",
       "      <td>7.8</td>\n",
       "      <td>0.88</td>\n",
       "      <td>0.00</td>\n",
       "      <td>2.6</td>\n",
       "      <td>0.098</td>\n",
       "      <td>25.0</td>\n",
       "      <td>67.0</td>\n",
       "      <td>0.9968</td>\n",
       "      <td>3.20</td>\n",
       "      <td>0.68</td>\n",
       "      <td>9.8</td>\n",
       "      <td>5</td>\n",
       "    </tr>\n",
       "    <tr>\n",
       "      <th>2</th>\n",
       "      <td>7.8</td>\n",
       "      <td>0.76</td>\n",
       "      <td>0.04</td>\n",
       "      <td>2.3</td>\n",
       "      <td>0.092</td>\n",
       "      <td>15.0</td>\n",
       "      <td>54.0</td>\n",
       "      <td>0.9970</td>\n",
       "      <td>3.26</td>\n",
       "      <td>0.65</td>\n",
       "      <td>9.8</td>\n",
       "      <td>5</td>\n",
       "    </tr>\n",
       "    <tr>\n",
       "      <th>3</th>\n",
       "      <td>11.2</td>\n",
       "      <td>0.28</td>\n",
       "      <td>0.56</td>\n",
       "      <td>1.9</td>\n",
       "      <td>0.075</td>\n",
       "      <td>17.0</td>\n",
       "      <td>60.0</td>\n",
       "      <td>0.9980</td>\n",
       "      <td>3.16</td>\n",
       "      <td>0.58</td>\n",
       "      <td>9.8</td>\n",
       "      <td>6</td>\n",
       "    </tr>\n",
       "    <tr>\n",
       "      <th>4</th>\n",
       "      <td>7.4</td>\n",
       "      <td>0.70</td>\n",
       "      <td>0.00</td>\n",
       "      <td>1.9</td>\n",
       "      <td>0.076</td>\n",
       "      <td>11.0</td>\n",
       "      <td>34.0</td>\n",
       "      <td>0.9978</td>\n",
       "      <td>3.51</td>\n",
       "      <td>0.56</td>\n",
       "      <td>9.4</td>\n",
       "      <td>5</td>\n",
       "    </tr>\n",
       "  </tbody>\n",
       "</table>\n",
       "</div>"
      ],
      "text/plain": [
       "   fixed acidity  volatile acidity  citric acid  residual sugar  chlorides  \\\n",
       "0            7.4              0.70         0.00             1.9      0.076   \n",
       "1            7.8              0.88         0.00             2.6      0.098   \n",
       "2            7.8              0.76         0.04             2.3      0.092   \n",
       "3           11.2              0.28         0.56             1.9      0.075   \n",
       "4            7.4              0.70         0.00             1.9      0.076   \n",
       "\n",
       "   free sulfur dioxide  total sulfur dioxide  density    pH  sulphates  \\\n",
       "0                 11.0                  34.0   0.9978  3.51       0.56   \n",
       "1                 25.0                  67.0   0.9968  3.20       0.68   \n",
       "2                 15.0                  54.0   0.9970  3.26       0.65   \n",
       "3                 17.0                  60.0   0.9980  3.16       0.58   \n",
       "4                 11.0                  34.0   0.9978  3.51       0.56   \n",
       "\n",
       "   alcohol  quality  \n",
       "0      9.4        5  \n",
       "1      9.8        5  \n",
       "2      9.8        5  \n",
       "3      9.8        6  \n",
       "4      9.4        5  "
      ]
     },
     "execution_count": 45,
     "metadata": {},
     "output_type": "execute_result"
    }
   ],
   "source": [
    "wine_data.head()"
   ]
  },
  {
   "cell_type": "code",
   "execution_count": 46,
   "id": "d6c1507c",
   "metadata": {},
   "outputs": [
    {
     "data": {
      "text/plain": [
       "11"
      ]
     },
     "execution_count": 46,
     "metadata": {},
     "output_type": "execute_result"
    }
   ],
   "source": [
    "#number of columns\n",
    "x.shape[1] "
   ]
  },
  {
   "cell_type": "code",
   "execution_count": 47,
   "id": "d9c9adb4",
   "metadata": {},
   "outputs": [],
   "source": [
    "#checking the multicollieanrity\n",
    "import statsmodels.api as sm\n",
    "from scipy import stats\n",
    "from statsmodels.stats.outliers_influence import variance_inflation_factor"
   ]
  },
  {
   "cell_type": "code",
   "execution_count": 48,
   "id": "fd7666ad",
   "metadata": {},
   "outputs": [],
   "source": [
    "#finding vif for each column\n",
    "def calc_vif(x):\n",
    "    vif= pd.DataFrame()\n",
    "    vif['variables']=x.columns\n",
    "    vif['VIF Factor']= [variance_inflation_factor(x.values, i) for i in range(x.shape[1])]\n",
    "    return(vif)"
   ]
  },
  {
   "cell_type": "code",
   "execution_count": 49,
   "id": "ad8ef7f0",
   "metadata": {},
   "outputs": [
    {
     "data": {
      "text/plain": [
       "(1599, 11)"
      ]
     },
     "execution_count": 49,
     "metadata": {},
     "output_type": "execute_result"
    }
   ],
   "source": [
    "x.shape"
   ]
  },
  {
   "cell_type": "code",
   "execution_count": 50,
   "id": "62794cc6",
   "metadata": {},
   "outputs": [
    {
     "data": {
      "text/html": [
       "<div>\n",
       "<style scoped>\n",
       "    .dataframe tbody tr th:only-of-type {\n",
       "        vertical-align: middle;\n",
       "    }\n",
       "\n",
       "    .dataframe tbody tr th {\n",
       "        vertical-align: top;\n",
       "    }\n",
       "\n",
       "    .dataframe thead th {\n",
       "        text-align: right;\n",
       "    }\n",
       "</style>\n",
       "<table border=\"1\" class=\"dataframe\">\n",
       "  <thead>\n",
       "    <tr style=\"text-align: right;\">\n",
       "      <th></th>\n",
       "      <th>variables</th>\n",
       "      <th>VIF Factor</th>\n",
       "    </tr>\n",
       "  </thead>\n",
       "  <tbody>\n",
       "    <tr>\n",
       "      <th>0</th>\n",
       "      <td>fixed acidity</td>\n",
       "      <td>89.002819</td>\n",
       "    </tr>\n",
       "    <tr>\n",
       "      <th>1</th>\n",
       "      <td>volatile acidity</td>\n",
       "      <td>20.080951</td>\n",
       "    </tr>\n",
       "    <tr>\n",
       "      <th>2</th>\n",
       "      <td>citric acid</td>\n",
       "      <td>9.371117</td>\n",
       "    </tr>\n",
       "    <tr>\n",
       "      <th>3</th>\n",
       "      <td>residual sugar</td>\n",
       "      <td>9.928085</td>\n",
       "    </tr>\n",
       "    <tr>\n",
       "      <th>4</th>\n",
       "      <td>chlorides</td>\n",
       "      <td>18.148151</td>\n",
       "    </tr>\n",
       "    <tr>\n",
       "      <th>5</th>\n",
       "      <td>free sulfur dioxide</td>\n",
       "      <td>7.016910</td>\n",
       "    </tr>\n",
       "    <tr>\n",
       "      <th>6</th>\n",
       "      <td>total sulfur dioxide</td>\n",
       "      <td>7.054045</td>\n",
       "    </tr>\n",
       "    <tr>\n",
       "      <th>7</th>\n",
       "      <td>density</td>\n",
       "      <td>1749.546686</td>\n",
       "    </tr>\n",
       "    <tr>\n",
       "      <th>8</th>\n",
       "      <td>pH</td>\n",
       "      <td>1255.438354</td>\n",
       "    </tr>\n",
       "    <tr>\n",
       "      <th>9</th>\n",
       "      <td>sulphates</td>\n",
       "      <td>33.981151</td>\n",
       "    </tr>\n",
       "    <tr>\n",
       "      <th>10</th>\n",
       "      <td>alcohol</td>\n",
       "      <td>169.187645</td>\n",
       "    </tr>\n",
       "    <tr>\n",
       "      <th>11</th>\n",
       "      <td>quality</td>\n",
       "      <td>86.124120</td>\n",
       "    </tr>\n",
       "  </tbody>\n",
       "</table>\n",
       "</div>"
      ],
      "text/plain": [
       "               variables   VIF Factor\n",
       "0          fixed acidity    89.002819\n",
       "1       volatile acidity    20.080951\n",
       "2            citric acid     9.371117\n",
       "3         residual sugar     9.928085\n",
       "4              chlorides    18.148151\n",
       "5    free sulfur dioxide     7.016910\n",
       "6   total sulfur dioxide     7.054045\n",
       "7                density  1749.546686\n",
       "8                     pH  1255.438354\n",
       "9              sulphates    33.981151\n",
       "10               alcohol   169.187645\n",
       "11               quality    86.124120"
      ]
     },
     "execution_count": 50,
     "metadata": {},
     "output_type": "execute_result"
    }
   ],
   "source": [
    "calc_vif(wine_data)\n",
    "\n",
    "#density, pH, alcohal, fixed acidity, volatile acidity, sulphates have high multicolinearity\n",
    "#the least contribution to quality is  of pH, fixed acidity"
   ]
  },
  {
   "cell_type": "code",
   "execution_count": 51,
   "id": "baca6082",
   "metadata": {},
   "outputs": [],
   "source": [
    "#still there is high multicolinearity, lets drop column 'density', 'fixed acidity'. We cannot remove 'alcohol' since its correlation with quality is more.\n",
    "wine_data= wine_data.drop(['pH', 'density', 'fixed acidity'], axis= 1)\n"
   ]
  },
  {
   "cell_type": "code",
   "execution_count": 52,
   "id": "c8efb0df",
   "metadata": {},
   "outputs": [
    {
     "data": {
      "text/html": [
       "<div>\n",
       "<style scoped>\n",
       "    .dataframe tbody tr th:only-of-type {\n",
       "        vertical-align: middle;\n",
       "    }\n",
       "\n",
       "    .dataframe tbody tr th {\n",
       "        vertical-align: top;\n",
       "    }\n",
       "\n",
       "    .dataframe thead th {\n",
       "        text-align: right;\n",
       "    }\n",
       "</style>\n",
       "<table border=\"1\" class=\"dataframe\">\n",
       "  <thead>\n",
       "    <tr style=\"text-align: right;\">\n",
       "      <th></th>\n",
       "      <th>variables</th>\n",
       "      <th>VIF Factor</th>\n",
       "    </tr>\n",
       "  </thead>\n",
       "  <tbody>\n",
       "    <tr>\n",
       "      <th>0</th>\n",
       "      <td>volatile acidity</td>\n",
       "      <td>15.595654</td>\n",
       "    </tr>\n",
       "    <tr>\n",
       "      <th>1</th>\n",
       "      <td>citric acid</td>\n",
       "      <td>5.095167</td>\n",
       "    </tr>\n",
       "    <tr>\n",
       "      <th>2</th>\n",
       "      <td>residual sugar</td>\n",
       "      <td>9.777267</td>\n",
       "    </tr>\n",
       "    <tr>\n",
       "      <th>3</th>\n",
       "      <td>chlorides</td>\n",
       "      <td>15.472860</td>\n",
       "    </tr>\n",
       "    <tr>\n",
       "      <th>4</th>\n",
       "      <td>free sulfur dioxide</td>\n",
       "      <td>6.965642</td>\n",
       "    </tr>\n",
       "    <tr>\n",
       "      <th>5</th>\n",
       "      <td>total sulfur dioxide</td>\n",
       "      <td>6.425286</td>\n",
       "    </tr>\n",
       "    <tr>\n",
       "      <th>6</th>\n",
       "      <td>sulphates</td>\n",
       "      <td>32.085184</td>\n",
       "    </tr>\n",
       "    <tr>\n",
       "      <th>7</th>\n",
       "      <td>alcohol</td>\n",
       "      <td>98.624194</td>\n",
       "    </tr>\n",
       "    <tr>\n",
       "      <th>8</th>\n",
       "      <td>quality</td>\n",
       "      <td>79.091676</td>\n",
       "    </tr>\n",
       "  </tbody>\n",
       "</table>\n",
       "</div>"
      ],
      "text/plain": [
       "              variables  VIF Factor\n",
       "0      volatile acidity   15.595654\n",
       "1           citric acid    5.095167\n",
       "2        residual sugar    9.777267\n",
       "3             chlorides   15.472860\n",
       "4   free sulfur dioxide    6.965642\n",
       "5  total sulfur dioxide    6.425286\n",
       "6             sulphates   32.085184\n",
       "7               alcohol   98.624194\n",
       "8               quality   79.091676"
      ]
     },
     "execution_count": 52,
     "metadata": {},
     "output_type": "execute_result"
    }
   ],
   "source": [
    "calc_vif(wine_data)"
   ]
  },
  {
   "cell_type": "code",
   "execution_count": 53,
   "id": "8d4c2880",
   "metadata": {},
   "outputs": [
    {
     "data": {
      "text/html": [
       "<div>\n",
       "<style scoped>\n",
       "    .dataframe tbody tr th:only-of-type {\n",
       "        vertical-align: middle;\n",
       "    }\n",
       "\n",
       "    .dataframe tbody tr th {\n",
       "        vertical-align: top;\n",
       "    }\n",
       "\n",
       "    .dataframe thead th {\n",
       "        text-align: right;\n",
       "    }\n",
       "</style>\n",
       "<table border=\"1\" class=\"dataframe\">\n",
       "  <thead>\n",
       "    <tr style=\"text-align: right;\">\n",
       "      <th></th>\n",
       "      <th>volatile acidity</th>\n",
       "      <th>citric acid</th>\n",
       "      <th>residual sugar</th>\n",
       "      <th>chlorides</th>\n",
       "      <th>free sulfur dioxide</th>\n",
       "      <th>total sulfur dioxide</th>\n",
       "      <th>sulphates</th>\n",
       "      <th>alcohol</th>\n",
       "      <th>quality</th>\n",
       "    </tr>\n",
       "  </thead>\n",
       "  <tbody>\n",
       "    <tr>\n",
       "      <th>0</th>\n",
       "      <td>0.70</td>\n",
       "      <td>0.00</td>\n",
       "      <td>1.9</td>\n",
       "      <td>0.076</td>\n",
       "      <td>11.0</td>\n",
       "      <td>34.0</td>\n",
       "      <td>0.56</td>\n",
       "      <td>9.4</td>\n",
       "      <td>5</td>\n",
       "    </tr>\n",
       "    <tr>\n",
       "      <th>1</th>\n",
       "      <td>0.88</td>\n",
       "      <td>0.00</td>\n",
       "      <td>2.6</td>\n",
       "      <td>0.098</td>\n",
       "      <td>25.0</td>\n",
       "      <td>67.0</td>\n",
       "      <td>0.68</td>\n",
       "      <td>9.8</td>\n",
       "      <td>5</td>\n",
       "    </tr>\n",
       "    <tr>\n",
       "      <th>2</th>\n",
       "      <td>0.76</td>\n",
       "      <td>0.04</td>\n",
       "      <td>2.3</td>\n",
       "      <td>0.092</td>\n",
       "      <td>15.0</td>\n",
       "      <td>54.0</td>\n",
       "      <td>0.65</td>\n",
       "      <td>9.8</td>\n",
       "      <td>5</td>\n",
       "    </tr>\n",
       "    <tr>\n",
       "      <th>3</th>\n",
       "      <td>0.28</td>\n",
       "      <td>0.56</td>\n",
       "      <td>1.9</td>\n",
       "      <td>0.075</td>\n",
       "      <td>17.0</td>\n",
       "      <td>60.0</td>\n",
       "      <td>0.58</td>\n",
       "      <td>9.8</td>\n",
       "      <td>6</td>\n",
       "    </tr>\n",
       "    <tr>\n",
       "      <th>4</th>\n",
       "      <td>0.70</td>\n",
       "      <td>0.00</td>\n",
       "      <td>1.9</td>\n",
       "      <td>0.076</td>\n",
       "      <td>11.0</td>\n",
       "      <td>34.0</td>\n",
       "      <td>0.56</td>\n",
       "      <td>9.4</td>\n",
       "      <td>5</td>\n",
       "    </tr>\n",
       "  </tbody>\n",
       "</table>\n",
       "</div>"
      ],
      "text/plain": [
       "   volatile acidity  citric acid  residual sugar  chlorides  \\\n",
       "0              0.70         0.00             1.9      0.076   \n",
       "1              0.88         0.00             2.6      0.098   \n",
       "2              0.76         0.04             2.3      0.092   \n",
       "3              0.28         0.56             1.9      0.075   \n",
       "4              0.70         0.00             1.9      0.076   \n",
       "\n",
       "   free sulfur dioxide  total sulfur dioxide  sulphates  alcohol  quality  \n",
       "0                 11.0                  34.0       0.56      9.4        5  \n",
       "1                 25.0                  67.0       0.68      9.8        5  \n",
       "2                 15.0                  54.0       0.65      9.8        5  \n",
       "3                 17.0                  60.0       0.58      9.8        6  \n",
       "4                 11.0                  34.0       0.56      9.4        5  "
      ]
     },
     "execution_count": 53,
     "metadata": {},
     "output_type": "execute_result"
    }
   ],
   "source": [
    "wine_data.head()"
   ]
  },
  {
   "cell_type": "code",
   "execution_count": 54,
   "id": "934d8daa",
   "metadata": {},
   "outputs": [],
   "source": [
    "x=wine_data.iloc[:, 0:8]"
   ]
  },
  {
   "cell_type": "code",
   "execution_count": 55,
   "id": "71149a70",
   "metadata": {},
   "outputs": [
    {
     "data": {
      "text/html": [
       "<div>\n",
       "<style scoped>\n",
       "    .dataframe tbody tr th:only-of-type {\n",
       "        vertical-align: middle;\n",
       "    }\n",
       "\n",
       "    .dataframe tbody tr th {\n",
       "        vertical-align: top;\n",
       "    }\n",
       "\n",
       "    .dataframe thead th {\n",
       "        text-align: right;\n",
       "    }\n",
       "</style>\n",
       "<table border=\"1\" class=\"dataframe\">\n",
       "  <thead>\n",
       "    <tr style=\"text-align: right;\">\n",
       "      <th></th>\n",
       "      <th>volatile acidity</th>\n",
       "      <th>citric acid</th>\n",
       "      <th>residual sugar</th>\n",
       "      <th>chlorides</th>\n",
       "      <th>free sulfur dioxide</th>\n",
       "      <th>total sulfur dioxide</th>\n",
       "      <th>sulphates</th>\n",
       "      <th>alcohol</th>\n",
       "    </tr>\n",
       "  </thead>\n",
       "  <tbody>\n",
       "    <tr>\n",
       "      <th>0</th>\n",
       "      <td>0.700</td>\n",
       "      <td>0.00</td>\n",
       "      <td>1.9</td>\n",
       "      <td>0.076</td>\n",
       "      <td>11.0</td>\n",
       "      <td>34.0</td>\n",
       "      <td>0.56</td>\n",
       "      <td>9.4</td>\n",
       "    </tr>\n",
       "    <tr>\n",
       "      <th>1</th>\n",
       "      <td>0.880</td>\n",
       "      <td>0.00</td>\n",
       "      <td>2.6</td>\n",
       "      <td>0.098</td>\n",
       "      <td>25.0</td>\n",
       "      <td>67.0</td>\n",
       "      <td>0.68</td>\n",
       "      <td>9.8</td>\n",
       "    </tr>\n",
       "    <tr>\n",
       "      <th>2</th>\n",
       "      <td>0.760</td>\n",
       "      <td>0.04</td>\n",
       "      <td>2.3</td>\n",
       "      <td>0.092</td>\n",
       "      <td>15.0</td>\n",
       "      <td>54.0</td>\n",
       "      <td>0.65</td>\n",
       "      <td>9.8</td>\n",
       "    </tr>\n",
       "    <tr>\n",
       "      <th>3</th>\n",
       "      <td>0.280</td>\n",
       "      <td>0.56</td>\n",
       "      <td>1.9</td>\n",
       "      <td>0.075</td>\n",
       "      <td>17.0</td>\n",
       "      <td>60.0</td>\n",
       "      <td>0.58</td>\n",
       "      <td>9.8</td>\n",
       "    </tr>\n",
       "    <tr>\n",
       "      <th>4</th>\n",
       "      <td>0.700</td>\n",
       "      <td>0.00</td>\n",
       "      <td>1.9</td>\n",
       "      <td>0.076</td>\n",
       "      <td>11.0</td>\n",
       "      <td>34.0</td>\n",
       "      <td>0.56</td>\n",
       "      <td>9.4</td>\n",
       "    </tr>\n",
       "    <tr>\n",
       "      <th>...</th>\n",
       "      <td>...</td>\n",
       "      <td>...</td>\n",
       "      <td>...</td>\n",
       "      <td>...</td>\n",
       "      <td>...</td>\n",
       "      <td>...</td>\n",
       "      <td>...</td>\n",
       "      <td>...</td>\n",
       "    </tr>\n",
       "    <tr>\n",
       "      <th>1594</th>\n",
       "      <td>0.600</td>\n",
       "      <td>0.08</td>\n",
       "      <td>2.0</td>\n",
       "      <td>0.090</td>\n",
       "      <td>32.0</td>\n",
       "      <td>44.0</td>\n",
       "      <td>0.58</td>\n",
       "      <td>10.5</td>\n",
       "    </tr>\n",
       "    <tr>\n",
       "      <th>1595</th>\n",
       "      <td>0.550</td>\n",
       "      <td>0.10</td>\n",
       "      <td>2.2</td>\n",
       "      <td>0.062</td>\n",
       "      <td>39.0</td>\n",
       "      <td>51.0</td>\n",
       "      <td>0.76</td>\n",
       "      <td>11.2</td>\n",
       "    </tr>\n",
       "    <tr>\n",
       "      <th>1596</th>\n",
       "      <td>0.510</td>\n",
       "      <td>0.13</td>\n",
       "      <td>2.3</td>\n",
       "      <td>0.076</td>\n",
       "      <td>29.0</td>\n",
       "      <td>40.0</td>\n",
       "      <td>0.75</td>\n",
       "      <td>11.0</td>\n",
       "    </tr>\n",
       "    <tr>\n",
       "      <th>1597</th>\n",
       "      <td>0.645</td>\n",
       "      <td>0.12</td>\n",
       "      <td>2.0</td>\n",
       "      <td>0.075</td>\n",
       "      <td>32.0</td>\n",
       "      <td>44.0</td>\n",
       "      <td>0.71</td>\n",
       "      <td>10.2</td>\n",
       "    </tr>\n",
       "    <tr>\n",
       "      <th>1598</th>\n",
       "      <td>0.310</td>\n",
       "      <td>0.47</td>\n",
       "      <td>3.6</td>\n",
       "      <td>0.067</td>\n",
       "      <td>18.0</td>\n",
       "      <td>42.0</td>\n",
       "      <td>0.66</td>\n",
       "      <td>11.0</td>\n",
       "    </tr>\n",
       "  </tbody>\n",
       "</table>\n",
       "<p>1451 rows × 8 columns</p>\n",
       "</div>"
      ],
      "text/plain": [
       "      volatile acidity  citric acid  residual sugar  chlorides  \\\n",
       "0                0.700         0.00             1.9      0.076   \n",
       "1                0.880         0.00             2.6      0.098   \n",
       "2                0.760         0.04             2.3      0.092   \n",
       "3                0.280         0.56             1.9      0.075   \n",
       "4                0.700         0.00             1.9      0.076   \n",
       "...                ...          ...             ...        ...   \n",
       "1594             0.600         0.08             2.0      0.090   \n",
       "1595             0.550         0.10             2.2      0.062   \n",
       "1596             0.510         0.13             2.3      0.076   \n",
       "1597             0.645         0.12             2.0      0.075   \n",
       "1598             0.310         0.47             3.6      0.067   \n",
       "\n",
       "      free sulfur dioxide  total sulfur dioxide  sulphates  alcohol  \n",
       "0                    11.0                  34.0       0.56      9.4  \n",
       "1                    25.0                  67.0       0.68      9.8  \n",
       "2                    15.0                  54.0       0.65      9.8  \n",
       "3                    17.0                  60.0       0.58      9.8  \n",
       "4                    11.0                  34.0       0.56      9.4  \n",
       "...                   ...                   ...        ...      ...  \n",
       "1594                 32.0                  44.0       0.58     10.5  \n",
       "1595                 39.0                  51.0       0.76     11.2  \n",
       "1596                 29.0                  40.0       0.75     11.0  \n",
       "1597                 32.0                  44.0       0.71     10.2  \n",
       "1598                 18.0                  42.0       0.66     11.0  \n",
       "\n",
       "[1451 rows x 8 columns]"
      ]
     },
     "execution_count": 55,
     "metadata": {},
     "output_type": "execute_result"
    }
   ],
   "source": [
    "x"
   ]
  },
  {
   "cell_type": "code",
   "execution_count": 56,
   "id": "f71ddd6c",
   "metadata": {},
   "outputs": [],
   "source": [
    "y=wine_data.iloc[:,8:]"
   ]
  },
  {
   "cell_type": "code",
   "execution_count": 57,
   "id": "4666679c",
   "metadata": {},
   "outputs": [
    {
     "data": {
      "text/html": [
       "<div>\n",
       "<style scoped>\n",
       "    .dataframe tbody tr th:only-of-type {\n",
       "        vertical-align: middle;\n",
       "    }\n",
       "\n",
       "    .dataframe tbody tr th {\n",
       "        vertical-align: top;\n",
       "    }\n",
       "\n",
       "    .dataframe thead th {\n",
       "        text-align: right;\n",
       "    }\n",
       "</style>\n",
       "<table border=\"1\" class=\"dataframe\">\n",
       "  <thead>\n",
       "    <tr style=\"text-align: right;\">\n",
       "      <th></th>\n",
       "      <th>quality</th>\n",
       "    </tr>\n",
       "  </thead>\n",
       "  <tbody>\n",
       "    <tr>\n",
       "      <th>0</th>\n",
       "      <td>5</td>\n",
       "    </tr>\n",
       "    <tr>\n",
       "      <th>1</th>\n",
       "      <td>5</td>\n",
       "    </tr>\n",
       "    <tr>\n",
       "      <th>2</th>\n",
       "      <td>5</td>\n",
       "    </tr>\n",
       "    <tr>\n",
       "      <th>3</th>\n",
       "      <td>6</td>\n",
       "    </tr>\n",
       "    <tr>\n",
       "      <th>4</th>\n",
       "      <td>5</td>\n",
       "    </tr>\n",
       "    <tr>\n",
       "      <th>...</th>\n",
       "      <td>...</td>\n",
       "    </tr>\n",
       "    <tr>\n",
       "      <th>1594</th>\n",
       "      <td>5</td>\n",
       "    </tr>\n",
       "    <tr>\n",
       "      <th>1595</th>\n",
       "      <td>6</td>\n",
       "    </tr>\n",
       "    <tr>\n",
       "      <th>1596</th>\n",
       "      <td>6</td>\n",
       "    </tr>\n",
       "    <tr>\n",
       "      <th>1597</th>\n",
       "      <td>5</td>\n",
       "    </tr>\n",
       "    <tr>\n",
       "      <th>1598</th>\n",
       "      <td>6</td>\n",
       "    </tr>\n",
       "  </tbody>\n",
       "</table>\n",
       "<p>1451 rows × 1 columns</p>\n",
       "</div>"
      ],
      "text/plain": [
       "      quality\n",
       "0           5\n",
       "1           5\n",
       "2           5\n",
       "3           6\n",
       "4           5\n",
       "...       ...\n",
       "1594        5\n",
       "1595        6\n",
       "1596        6\n",
       "1597        5\n",
       "1598        6\n",
       "\n",
       "[1451 rows x 1 columns]"
      ]
     },
     "execution_count": 57,
     "metadata": {},
     "output_type": "execute_result"
    }
   ],
   "source": [
    "y"
   ]
  },
  {
   "cell_type": "code",
   "execution_count": 58,
   "id": "8f6b6736",
   "metadata": {},
   "outputs": [
    {
     "data": {
      "text/plain": [
       "(1451, 8)"
      ]
     },
     "execution_count": 58,
     "metadata": {},
     "output_type": "execute_result"
    }
   ],
   "source": [
    "x.shape"
   ]
  },
  {
   "cell_type": "code",
   "execution_count": 59,
   "id": "74ead1d7",
   "metadata": {},
   "outputs": [
    {
     "data": {
      "text/plain": [
       "(1451, 1)"
      ]
     },
     "execution_count": 59,
     "metadata": {},
     "output_type": "execute_result"
    }
   ],
   "source": [
    "y.shape"
   ]
  },
  {
   "cell_type": "code",
   "execution_count": 60,
   "id": "c66388a8",
   "metadata": {},
   "outputs": [],
   "source": [
    "#checking if data is balanced or not?\n",
    "#SMOTE- SYNTHETIC MINORITY OVER SAMPLING TECHNIQUE"
   ]
  },
  {
   "cell_type": "code",
   "execution_count": 61,
   "id": "83e361c1",
   "metadata": {},
   "outputs": [
    {
     "data": {
      "text/plain": [
       "quality\n",
       "5          617\n",
       "6          586\n",
       "7          185\n",
       "4           47\n",
       "8           16\n",
       "dtype: int64"
      ]
     },
     "execution_count": 61,
     "metadata": {},
     "output_type": "execute_result"
    }
   ],
   "source": [
    "y.value_counts()"
   ]
  },
  {
   "cell_type": "code",
   "execution_count": 62,
   "id": "944ed4b7",
   "metadata": {},
   "outputs": [
    {
     "name": "stderr",
     "output_type": "stream",
     "text": [
      "C:\\Users\\KirtiArya\\anaconda3\\lib\\site-packages\\seaborn\\_decorators.py:36: FutureWarning: Pass the following variable as a keyword arg: x. From version 0.12, the only valid positional argument will be `data`, and passing other arguments without an explicit keyword will result in an error or misinterpretation.\n",
      "  warnings.warn(\n"
     ]
    },
    {
     "data": {
      "text/plain": [
       "<AxesSubplot:xlabel='quality', ylabel='count'>"
      ]
     },
     "execution_count": 62,
     "metadata": {},
     "output_type": "execute_result"
    },
    {
     "data": {
      "image/png": "[encoded data removed]",
      "text/plain": [
       "<Figure size 432x288 with 1 Axes>"
      ]
     },
     "metadata": {
      "needs_background": "light"
     },
     "output_type": "display_data"
    }
   ],
   "source": [
    "#data is unbalanced\n",
    "sns.countplot(wine_data['quality'])"
   ]
  },
  {
   "cell_type": "code",
   "execution_count": 63,
   "id": "8aa87d02",
   "metadata": {},
   "outputs": [],
   "source": [
    "#balancing data using smote\n",
    "import sklearn\n",
    "from imblearn.over_sampling import SMOTE"
   ]
  },
  {
   "cell_type": "code",
   "execution_count": 64,
   "id": "dd611e4f",
   "metadata": {},
   "outputs": [],
   "source": [
    "smt=SMOTE()\n",
    "x1, y1= smt.fit_resample(x, y)"
   ]
  },
  {
   "cell_type": "code",
   "execution_count": 65,
   "id": "8aec5d5e",
   "metadata": {},
   "outputs": [
    {
     "data": {
      "text/plain": [
       "quality\n",
       "4          617\n",
       "5          617\n",
       "6          617\n",
       "7          617\n",
       "8          617\n",
       "dtype: int64"
      ]
     },
     "execution_count": 65,
     "metadata": {},
     "output_type": "execute_result"
    }
   ],
   "source": [
    "y1.value_counts()\n",
    "\n",
    "#the quality column has now some data making each category data equal = 617."
   ]
  },
  {
   "cell_type": "code",
   "execution_count": 66,
   "id": "a7d0ab0a",
   "metadata": {},
   "outputs": [
    {
     "data": {
      "text/plain": [
       "(3085, 8)"
      ]
     },
     "execution_count": 66,
     "metadata": {},
     "output_type": "execute_result"
    }
   ],
   "source": [
    "x1.shape"
   ]
  },
  {
   "cell_type": "code",
   "execution_count": 67,
   "id": "ab47e9ea",
   "metadata": {},
   "outputs": [
    {
     "data": {
      "text/html": [
       "<div>\n",
       "<style scoped>\n",
       "    .dataframe tbody tr th:only-of-type {\n",
       "        vertical-align: middle;\n",
       "    }\n",
       "\n",
       "    .dataframe tbody tr th {\n",
       "        vertical-align: top;\n",
       "    }\n",
       "\n",
       "    .dataframe thead th {\n",
       "        text-align: right;\n",
       "    }\n",
       "</style>\n",
       "<table border=\"1\" class=\"dataframe\">\n",
       "  <thead>\n",
       "    <tr style=\"text-align: right;\">\n",
       "      <th></th>\n",
       "      <th>quality</th>\n",
       "    </tr>\n",
       "  </thead>\n",
       "  <tbody>\n",
       "    <tr>\n",
       "      <th>0</th>\n",
       "      <td>5</td>\n",
       "    </tr>\n",
       "    <tr>\n",
       "      <th>1</th>\n",
       "      <td>5</td>\n",
       "    </tr>\n",
       "    <tr>\n",
       "      <th>2</th>\n",
       "      <td>5</td>\n",
       "    </tr>\n",
       "    <tr>\n",
       "      <th>3</th>\n",
       "      <td>6</td>\n",
       "    </tr>\n",
       "    <tr>\n",
       "      <th>4</th>\n",
       "      <td>5</td>\n",
       "    </tr>\n",
       "    <tr>\n",
       "      <th>...</th>\n",
       "      <td>...</td>\n",
       "    </tr>\n",
       "    <tr>\n",
       "      <th>3080</th>\n",
       "      <td>8</td>\n",
       "    </tr>\n",
       "    <tr>\n",
       "      <th>3081</th>\n",
       "      <td>8</td>\n",
       "    </tr>\n",
       "    <tr>\n",
       "      <th>3082</th>\n",
       "      <td>8</td>\n",
       "    </tr>\n",
       "    <tr>\n",
       "      <th>3083</th>\n",
       "      <td>8</td>\n",
       "    </tr>\n",
       "    <tr>\n",
       "      <th>3084</th>\n",
       "      <td>8</td>\n",
       "    </tr>\n",
       "  </tbody>\n",
       "</table>\n",
       "<p>3085 rows × 1 columns</p>\n",
       "</div>"
      ],
      "text/plain": [
       "      quality\n",
       "0           5\n",
       "1           5\n",
       "2           5\n",
       "3           6\n",
       "4           5\n",
       "...       ...\n",
       "3080        8\n",
       "3081        8\n",
       "3082        8\n",
       "3083        8\n",
       "3084        8\n",
       "\n",
       "[3085 rows x 1 columns]"
      ]
     },
     "execution_count": 67,
     "metadata": {},
     "output_type": "execute_result"
    }
   ],
   "source": [
    "y1"
   ]
  },
  {
   "cell_type": "code",
   "execution_count": 68,
   "id": "ccf9f16f",
   "metadata": {},
   "outputs": [],
   "source": [
    "#performing the data scaling\n",
    "from sklearn.preprocessing import MinMaxScaler"
   ]
  },
  {
   "cell_type": "code",
   "execution_count": 69,
   "id": "329b426f",
   "metadata": {},
   "outputs": [],
   "source": [
    "scale= MinMaxScaler()"
   ]
  },
  {
   "cell_type": "code",
   "execution_count": 70,
   "id": "03f23c5a",
   "metadata": {},
   "outputs": [],
   "source": [
    "x1= scale.fit_transform(x1)"
   ]
  },
  {
   "cell_type": "markdown",
   "id": "2fc62966",
   "metadata": {},
   "source": [
    "# MODELLING - CLASSIFIERS"
   ]
  },
  {
   "cell_type": "code",
   "execution_count": 71,
   "id": "250e578b",
   "metadata": {},
   "outputs": [],
   "source": [
    "#applying naive bais classifier by calling multinomial MB\n",
    "from sklearn.naive_bayes import MultinomialNB\n",
    "\n",
    "#metrics\n",
    "from sklearn.metrics import accuracy_score, confusion_matrix, classification_report\n",
    "import warnings\n",
    "warnings.filterwarnings('ignore')\n",
    "from sklearn.model_selection import train_test_split\n"
   ]
  },
  {
   "cell_type": "code",
   "execution_count": 72,
   "id": "7fb402d2",
   "metadata": {},
   "outputs": [],
   "source": [
    "x_train, x_test, y_train, y_test=train_test_split(x1, y1, test_size=.33, random_state= 45)"
   ]
  },
  {
   "cell_type": "code",
   "execution_count": 73,
   "id": "9a64ca38",
   "metadata": {},
   "outputs": [
    {
     "name": "stdout",
     "output_type": "stream",
     "text": [
      "0.4494602551521099\n",
      "[[122  65  16   9   1]\n",
      " [ 53  98  35  13   8]\n",
      " [ 40  39  50  41  30]\n",
      " [ 13   7  36  62  78]\n",
      " [  1   0  31  45 126]]\n",
      "              precision    recall  f1-score   support\n",
      "\n",
      "           4       0.53      0.57      0.55       213\n",
      "           5       0.47      0.47      0.47       207\n",
      "           6       0.30      0.25      0.27       200\n",
      "           7       0.36      0.32      0.34       196\n",
      "           8       0.52      0.62      0.57       203\n",
      "\n",
      "    accuracy                           0.45      1019\n",
      "   macro avg       0.44      0.45      0.44      1019\n",
      "weighted avg       0.44      0.45      0.44      1019\n",
      "\n"
     ]
    }
   ],
   "source": [
    "mnb= MultinomialNB()\n",
    "mnb.fit(x_train, y_train)\n",
    "predmnb=mnb.predict(x_test)\n",
    "print(accuracy_score(y_test, predmnb))\n",
    "print(confusion_matrix(y_test,predmnb))\n",
    "print(classification_report(y_test, predmnb))"
   ]
  },
  {
   "cell_type": "code",
   "execution_count": 74,
   "id": "62e53d21",
   "metadata": {},
   "outputs": [],
   "source": [
    "#the accuracy is just 46%"
   ]
  },
  {
   "cell_type": "code",
   "execution_count": 75,
   "id": "365f683c",
   "metadata": {},
   "outputs": [],
   "source": [
    "from sklearn.naive_bayes import GaussianNB"
   ]
  },
  {
   "cell_type": "code",
   "execution_count": 76,
   "id": "a9d0c68f",
   "metadata": {},
   "outputs": [],
   "source": [
    "x_train, x_test, y_train, y_test=train_test_split(x1, y1, test_size=.33, random_state= 42)"
   ]
  },
  {
   "cell_type": "code",
   "execution_count": 77,
   "id": "2e8c50be",
   "metadata": {},
   "outputs": [
    {
     "name": "stdout",
     "output_type": "stream",
     "text": [
      "0.4847890088321884\n",
      "[[127  49  20   5   0]\n",
      " [ 74  79  36  12   6]\n",
      " [ 50  35  61  29  27]\n",
      " [ 13   4  20  67 102]\n",
      " [  0   0   5  38 160]]\n",
      "              precision    recall  f1-score   support\n",
      "\n",
      "           4       0.48      0.63      0.55       201\n",
      "           5       0.47      0.38      0.42       207\n",
      "           6       0.43      0.30      0.35       202\n",
      "           7       0.44      0.33      0.38       206\n",
      "           8       0.54      0.79      0.64       203\n",
      "\n",
      "    accuracy                           0.48      1019\n",
      "   macro avg       0.47      0.49      0.47      1019\n",
      "weighted avg       0.47      0.48      0.47      1019\n",
      "\n"
     ]
    }
   ],
   "source": [
    "mnb= GaussianNB()\n",
    "mnb.fit(x_train, y_train)\n",
    "predmnb=mnb.predict(x_test)\n",
    "print(accuracy_score(y_test, predmnb))\n",
    "print(confusion_matrix(y_test,predmnb))\n",
    "print(classification_report(y_test, predmnb))"
   ]
  },
  {
   "cell_type": "code",
   "execution_count": 78,
   "id": "c81ddb24",
   "metadata": {},
   "outputs": [],
   "source": [
    "# The accuracy is 50%. "
   ]
  },
  {
   "cell_type": "markdown",
   "id": "735a28df",
   "metadata": {},
   "source": [
    "# DECISION TREE"
   ]
  },
  {
   "cell_type": "code",
   "execution_count": 79,
   "id": "bab8e169",
   "metadata": {},
   "outputs": [],
   "source": [
    "from sklearn.tree import DecisionTreeClassifier\n"
   ]
  },
  {
   "cell_type": "code",
   "execution_count": 80,
   "id": "a7a70753",
   "metadata": {},
   "outputs": [],
   "source": [
    "x_train, x_test, y_train, y_test=train_test_split(x1, y1, test_size=.33, random_state= 44)"
   ]
  },
  {
   "cell_type": "code",
   "execution_count": 81,
   "id": "802b9655",
   "metadata": {},
   "outputs": [
    {
     "name": "stdout",
     "output_type": "stream",
     "text": [
      "0.719332679097154\n",
      "[[167  26  10   4   0]\n",
      " [ 22 115  50   5   1]\n",
      " [ 16  52 104  31   9]\n",
      " [  0   8  24 155  14]\n",
      " [  0   1   3  10 192]]\n",
      "              precision    recall  f1-score   support\n",
      "\n",
      "           4       0.81      0.81      0.81       207\n",
      "           5       0.57      0.60      0.58       193\n",
      "           6       0.54      0.49      0.52       212\n",
      "           7       0.76      0.77      0.76       201\n",
      "           8       0.89      0.93      0.91       206\n",
      "\n",
      "    accuracy                           0.72      1019\n",
      "   macro avg       0.71      0.72      0.72      1019\n",
      "weighted avg       0.72      0.72      0.72      1019\n",
      "\n"
     ]
    }
   ],
   "source": [
    "dtc=DecisionTreeClassifier()\n",
    "dtc.fit(x_train, y_train)\n",
    "dtc.score(x_train, y_train)\n",
    "preddtc=dtc.predict(x_test)\n",
    "\n",
    "\n",
    "print(accuracy_score(y_test,preddtc))\n",
    "print(confusion_matrix(y_test, preddtc))\n",
    "print(classification_report(y_test, preddtc))"
   ]
  },
  {
   "cell_type": "code",
   "execution_count": 82,
   "id": "09a0469f",
   "metadata": {},
   "outputs": [],
   "source": [
    "#the accuracy is 76%"
   ]
  },
  {
   "cell_type": "markdown",
   "id": "1d6ea5d4",
   "metadata": {},
   "source": [
    "# K Nearest Neighbor"
   ]
  },
  {
   "cell_type": "code",
   "execution_count": 83,
   "id": "d44f1b17",
   "metadata": {},
   "outputs": [],
   "source": [
    "from sklearn.neighbors import KNeighborsClassifier"
   ]
  },
  {
   "cell_type": "code",
   "execution_count": 84,
   "id": "4e2e41c8",
   "metadata": {},
   "outputs": [],
   "source": [
    "x_train, x_test, y_train, y_test= train_test_split(x1,y1,test_size=.20, random_state=40)"
   ]
  },
  {
   "cell_type": "code",
   "execution_count": 85,
   "id": "4e9b8b12",
   "metadata": {},
   "outputs": [
    {
     "name": "stdout",
     "output_type": "stream",
     "text": [
      "0.6888168557536467\n",
      "[[102   0   1   0   0]\n",
      " [ 29  64  32   9   1]\n",
      " [ 16  39  36  21  12]\n",
      " [  2   6  10 100  12]\n",
      " [  0   0   0   2 123]]\n",
      "              precision    recall  f1-score   support\n",
      "\n",
      "           4       0.68      0.99      0.81       103\n",
      "           5       0.59      0.47      0.52       135\n",
      "           6       0.46      0.29      0.35       124\n",
      "           7       0.76      0.77      0.76       130\n",
      "           8       0.83      0.98      0.90       125\n",
      "\n",
      "    accuracy                           0.69       617\n",
      "   macro avg       0.66      0.70      0.67       617\n",
      "weighted avg       0.66      0.69      0.66       617\n",
      "\n"
     ]
    }
   ],
   "source": [
    "#n_neighbors =5 default\n",
    "#take n as odd numbers\n",
    "knn=KNeighborsClassifier(n_neighbors=5)\n",
    "knn.fit(x_train, y_train)\n",
    "knn.score(x_train, y_train)\n",
    "predknn=knn.predict(x_test)\n",
    "print(accuracy_score(y_test,predknn))\n",
    "print(confusion_matrix(y_test, predknn))\n",
    "print(classification_report(y_test, predknn))"
   ]
  },
  {
   "cell_type": "code",
   "execution_count": 86,
   "id": "084d84b7",
   "metadata": {},
   "outputs": [],
   "source": [
    "# The accuracy is 71%"
   ]
  },
  {
   "cell_type": "markdown",
   "id": "f43c0cf2",
   "metadata": {},
   "source": [
    "# Support Vector Classifier"
   ]
  },
  {
   "cell_type": "code",
   "execution_count": 87,
   "id": "23899baa",
   "metadata": {},
   "outputs": [],
   "source": [
    "\n",
    "from sklearn.svm import SVC"
   ]
  },
  {
   "cell_type": "code",
   "execution_count": 88,
   "id": "399f0038",
   "metadata": {},
   "outputs": [],
   "source": [
    "x_train, x_test, y_train, y_test= train_test_split(x1,y1,test_size=.33, random_state=45)"
   ]
  },
  {
   "cell_type": "code",
   "execution_count": 89,
   "id": "eb2e07d9",
   "metadata": {},
   "outputs": [],
   "source": [
    "def svmkernel(ker):\n",
    "    svc=SVC(kernel=ker)\n",
    "    svc.fit(x_train, y_train)\n",
    "    predsvc=svc.predict(x_test)\n",
    "    print(accuracy_score(y_test, predsvc))\n",
    "    print(confusion_matrix(y_test, predsvc))\n",
    "    print(classification_report(y_test, predsvc))"
   ]
  },
  {
   "cell_type": "code",
   "execution_count": 90,
   "id": "e0c54a03",
   "metadata": {},
   "outputs": [
    {
     "name": "stdout",
     "output_type": "stream",
     "text": [
      "0.6751717369970559\n",
      "[[164  43   5   1   0]\n",
      " [ 42 112  47   4   2]\n",
      " [ 27  36  78  40  19]\n",
      " [  3   5  16 132  40]\n",
      " [  0   0   0   1 202]]\n",
      "              precision    recall  f1-score   support\n",
      "\n",
      "           4       0.69      0.77      0.73       213\n",
      "           5       0.57      0.54      0.56       207\n",
      "           6       0.53      0.39      0.45       200\n",
      "           7       0.74      0.67      0.71       196\n",
      "           8       0.77      1.00      0.87       203\n",
      "\n",
      "    accuracy                           0.68      1019\n",
      "   macro avg       0.66      0.67      0.66      1019\n",
      "weighted avg       0.66      0.68      0.66      1019\n",
      "\n"
     ]
    }
   ],
   "source": [
    "svmkernel(\"rbf\")"
   ]
  },
  {
   "cell_type": "code",
   "execution_count": 91,
   "id": "0c37aa63",
   "metadata": {},
   "outputs": [
    {
     "name": "stdout",
     "output_type": "stream",
     "text": [
      "0.5083415112855741\n",
      "[[131  60  17   5   0]\n",
      " [ 54 101  42   8   2]\n",
      " [ 32  41  58  46  23]\n",
      " [  5   3  30  78  80]\n",
      " [  0   0   0  53 150]]\n",
      "              precision    recall  f1-score   support\n",
      "\n",
      "           4       0.59      0.62      0.60       213\n",
      "           5       0.49      0.49      0.49       207\n",
      "           6       0.39      0.29      0.33       200\n",
      "           7       0.41      0.40      0.40       196\n",
      "           8       0.59      0.74      0.66       203\n",
      "\n",
      "    accuracy                           0.51      1019\n",
      "   macro avg       0.50      0.51      0.50      1019\n",
      "weighted avg       0.50      0.51      0.50      1019\n",
      "\n"
     ]
    }
   ],
   "source": [
    "svmkernel(\"linear\")"
   ]
  },
  {
   "cell_type": "code",
   "execution_count": 92,
   "id": "f98cdecd",
   "metadata": {},
   "outputs": [
    {
     "name": "stdout",
     "output_type": "stream",
     "text": [
      "0.6653581943081452\n",
      "[[146  62   5   0   0]\n",
      " [ 44 130  30   2   1]\n",
      " [ 22  56  76  33  13]\n",
      " [  1   7  25 123  40]\n",
      " [  0   0   0   0 203]]\n",
      "              precision    recall  f1-score   support\n",
      "\n",
      "           4       0.69      0.69      0.69       213\n",
      "           5       0.51      0.63      0.56       207\n",
      "           6       0.56      0.38      0.45       200\n",
      "           7       0.78      0.63      0.69       196\n",
      "           8       0.79      1.00      0.88       203\n",
      "\n",
      "    accuracy                           0.67      1019\n",
      "   macro avg       0.66      0.66      0.66      1019\n",
      "weighted avg       0.66      0.67      0.66      1019\n",
      "\n"
     ]
    }
   ],
   "source": [
    "svmkernel(\"poly\")"
   ]
  },
  {
   "cell_type": "code",
   "execution_count": 93,
   "id": "726bce34",
   "metadata": {},
   "outputs": [],
   "source": [
    "# the frequency noticed with  vmkernel(\"poly\") of 70%"
   ]
  },
  {
   "cell_type": "markdown",
   "id": "38d36d8e",
   "metadata": {},
   "source": [
    "# So far the maximum accuracy is received from K Nearest Neighbor with 67% among all classifiers."
   ]
  },
  {
   "cell_type": "markdown",
   "id": "d639f349",
   "metadata": {},
   "source": [
    "# Grouping output as \"good\" (1) and \"not good\" (0) to use the AUC - ROC curve & use hyperparameter tuning"
   ]
  },
  {
   "cell_type": "code",
   "execution_count": 94,
   "id": "22e46436",
   "metadata": {},
   "outputs": [
    {
     "data": {
      "text/plain": [
       "(3085, 8)"
      ]
     },
     "execution_count": 94,
     "metadata": {},
     "output_type": "execute_result"
    }
   ],
   "source": [
    "x1.shape"
   ]
  },
  {
   "cell_type": "code",
   "execution_count": 95,
   "id": "c0ccc52a",
   "metadata": {},
   "outputs": [
    {
     "data": {
      "text/plain": [
       "(3085, 1)"
      ]
     },
     "execution_count": 95,
     "metadata": {},
     "output_type": "execute_result"
    }
   ],
   "source": [
    "y1.shape"
   ]
  },
  {
   "cell_type": "code",
   "execution_count": 96,
   "id": "338f8db3",
   "metadata": {},
   "outputs": [],
   "source": [
    "#creating an updated data frame\n",
    "dx= pd.DataFrame(x1, columns= [\"volatile acidity\", \"citric acid\", \"residual sugar\", \"chlorides\", \"free sulfur dioxide\", \"total sulfur dioxide\", \"sulphates\", \"alcohol\"])"
   ]
  },
  {
   "cell_type": "code",
   "execution_count": 97,
   "id": "ca7c97c3",
   "metadata": {},
   "outputs": [],
   "source": [
    "dy=pd.DataFrame(y1)"
   ]
  },
  {
   "cell_type": "code",
   "execution_count": 98,
   "id": "b951af8d",
   "metadata": {},
   "outputs": [],
   "source": [
    "df = pd.concat([dx, dy], ignore_index=False, axis= 1)"
   ]
  },
  {
   "cell_type": "code",
   "execution_count": 99,
   "id": "54b209d1",
   "metadata": {},
   "outputs": [
    {
     "data": {
      "text/html": [
       "<div>\n",
       "<style scoped>\n",
       "    .dataframe tbody tr th:only-of-type {\n",
       "        vertical-align: middle;\n",
       "    }\n",
       "\n",
       "    .dataframe tbody tr th {\n",
       "        vertical-align: top;\n",
       "    }\n",
       "\n",
       "    .dataframe thead th {\n",
       "        text-align: right;\n",
       "    }\n",
       "</style>\n",
       "<table border=\"1\" class=\"dataframe\">\n",
       "  <thead>\n",
       "    <tr style=\"text-align: right;\">\n",
       "      <th></th>\n",
       "      <th>volatile acidity</th>\n",
       "      <th>citric acid</th>\n",
       "      <th>residual sugar</th>\n",
       "      <th>chlorides</th>\n",
       "      <th>free sulfur dioxide</th>\n",
       "      <th>total sulfur dioxide</th>\n",
       "      <th>sulphates</th>\n",
       "      <th>alcohol</th>\n",
       "      <th>quality</th>\n",
       "    </tr>\n",
       "  </thead>\n",
       "  <tbody>\n",
       "    <tr>\n",
       "      <th>0</th>\n",
       "      <td>0.630435</td>\n",
       "      <td>0.000000</td>\n",
       "      <td>0.127273</td>\n",
       "      <td>0.202128</td>\n",
       "      <td>0.217391</td>\n",
       "      <td>0.201439</td>\n",
       "      <td>0.277108</td>\n",
       "      <td>0.176471</td>\n",
       "      <td>5</td>\n",
       "    </tr>\n",
       "    <tr>\n",
       "      <th>1</th>\n",
       "      <td>0.826087</td>\n",
       "      <td>0.000000</td>\n",
       "      <td>0.254545</td>\n",
       "      <td>0.319149</td>\n",
       "      <td>0.521739</td>\n",
       "      <td>0.438849</td>\n",
       "      <td>0.421687</td>\n",
       "      <td>0.254902</td>\n",
       "      <td>5</td>\n",
       "    </tr>\n",
       "    <tr>\n",
       "      <th>2</th>\n",
       "      <td>0.695652</td>\n",
       "      <td>0.050633</td>\n",
       "      <td>0.200000</td>\n",
       "      <td>0.287234</td>\n",
       "      <td>0.304348</td>\n",
       "      <td>0.345324</td>\n",
       "      <td>0.385542</td>\n",
       "      <td>0.254902</td>\n",
       "      <td>5</td>\n",
       "    </tr>\n",
       "    <tr>\n",
       "      <th>3</th>\n",
       "      <td>0.173913</td>\n",
       "      <td>0.708861</td>\n",
       "      <td>0.127273</td>\n",
       "      <td>0.196809</td>\n",
       "      <td>0.347826</td>\n",
       "      <td>0.388489</td>\n",
       "      <td>0.301205</td>\n",
       "      <td>0.254902</td>\n",
       "      <td>6</td>\n",
       "    </tr>\n",
       "    <tr>\n",
       "      <th>4</th>\n",
       "      <td>0.630435</td>\n",
       "      <td>0.000000</td>\n",
       "      <td>0.127273</td>\n",
       "      <td>0.202128</td>\n",
       "      <td>0.217391</td>\n",
       "      <td>0.201439</td>\n",
       "      <td>0.277108</td>\n",
       "      <td>0.176471</td>\n",
       "      <td>5</td>\n",
       "    </tr>\n",
       "    <tr>\n",
       "      <th>...</th>\n",
       "      <td>...</td>\n",
       "      <td>...</td>\n",
       "      <td>...</td>\n",
       "      <td>...</td>\n",
       "      <td>...</td>\n",
       "      <td>...</td>\n",
       "      <td>...</td>\n",
       "      <td>...</td>\n",
       "      <td>...</td>\n",
       "    </tr>\n",
       "    <tr>\n",
       "      <th>3080</th>\n",
       "      <td>0.379236</td>\n",
       "      <td>0.748925</td>\n",
       "      <td>0.462716</td>\n",
       "      <td>0.207690</td>\n",
       "      <td>0.096530</td>\n",
       "      <td>0.081447</td>\n",
       "      <td>0.406764</td>\n",
       "      <td>0.697425</td>\n",
       "      <td>8</td>\n",
       "    </tr>\n",
       "    <tr>\n",
       "      <th>3081</th>\n",
       "      <td>0.282239</td>\n",
       "      <td>0.459629</td>\n",
       "      <td>0.100941</td>\n",
       "      <td>0.142885</td>\n",
       "      <td>0.079464</td>\n",
       "      <td>0.046390</td>\n",
       "      <td>0.655146</td>\n",
       "      <td>0.478043</td>\n",
       "      <td>8</td>\n",
       "    </tr>\n",
       "    <tr>\n",
       "      <th>3082</th>\n",
       "      <td>0.237060</td>\n",
       "      <td>0.520189</td>\n",
       "      <td>0.157140</td>\n",
       "      <td>0.141717</td>\n",
       "      <td>0.061076</td>\n",
       "      <td>0.059095</td>\n",
       "      <td>0.708271</td>\n",
       "      <td>0.373479</td>\n",
       "      <td>8</td>\n",
       "    </tr>\n",
       "    <tr>\n",
       "      <th>3083</th>\n",
       "      <td>0.407449</td>\n",
       "      <td>0.793647</td>\n",
       "      <td>0.556618</td>\n",
       "      <td>0.242838</td>\n",
       "      <td>0.108696</td>\n",
       "      <td>0.087898</td>\n",
       "      <td>0.542108</td>\n",
       "      <td>0.830423</td>\n",
       "      <td>8</td>\n",
       "    </tr>\n",
       "    <tr>\n",
       "      <th>3084</th>\n",
       "      <td>0.319999</td>\n",
       "      <td>0.612081</td>\n",
       "      <td>0.122181</td>\n",
       "      <td>0.178267</td>\n",
       "      <td>0.132671</td>\n",
       "      <td>0.072682</td>\n",
       "      <td>0.437452</td>\n",
       "      <td>0.796414</td>\n",
       "      <td>8</td>\n",
       "    </tr>\n",
       "  </tbody>\n",
       "</table>\n",
       "<p>3085 rows × 9 columns</p>\n",
       "</div>"
      ],
      "text/plain": [
       "      volatile acidity  citric acid  residual sugar  chlorides  \\\n",
       "0             0.630435     0.000000        0.127273   0.202128   \n",
       "1             0.826087     0.000000        0.254545   0.319149   \n",
       "2             0.695652     0.050633        0.200000   0.287234   \n",
       "3             0.173913     0.708861        0.127273   0.196809   \n",
       "4             0.630435     0.000000        0.127273   0.202128   \n",
       "...                ...          ...             ...        ...   \n",
       "3080          0.379236     0.748925        0.462716   0.207690   \n",
       "3081          0.282239     0.459629        0.100941   0.142885   \n",
       "3082          0.237060     0.520189        0.157140   0.141717   \n",
       "3083          0.407449     0.793647        0.556618   0.242838   \n",
       "3084          0.319999     0.612081        0.122181   0.178267   \n",
       "\n",
       "      free sulfur dioxide  total sulfur dioxide  sulphates   alcohol  quality  \n",
       "0                0.217391              0.201439   0.277108  0.176471        5  \n",
       "1                0.521739              0.438849   0.421687  0.254902        5  \n",
       "2                0.304348              0.345324   0.385542  0.254902        5  \n",
       "3                0.347826              0.388489   0.301205  0.254902        6  \n",
       "4                0.217391              0.201439   0.277108  0.176471        5  \n",
       "...                   ...                   ...        ...       ...      ...  \n",
       "3080             0.096530              0.081447   0.406764  0.697425        8  \n",
       "3081             0.079464              0.046390   0.655146  0.478043        8  \n",
       "3082             0.061076              0.059095   0.708271  0.373479        8  \n",
       "3083             0.108696              0.087898   0.542108  0.830423        8  \n",
       "3084             0.132671              0.072682   0.437452  0.796414        8  \n",
       "\n",
       "[3085 rows x 9 columns]"
      ]
     },
     "execution_count": 99,
     "metadata": {},
     "output_type": "execute_result"
    }
   ],
   "source": [
    "df"
   ]
  },
  {
   "cell_type": "markdown",
   "id": "4a77101e",
   "metadata": {},
   "source": [
    "# We assume that  wines with quality 7 and above are good (1) and rest are not good (0)"
   ]
  },
  {
   "cell_type": "code",
   "execution_count": 100,
   "id": "74923cae",
   "metadata": {},
   "outputs": [],
   "source": [
    "df.loc[df[\"quality\"] <= 6, \"quality\"] = 0"
   ]
  },
  {
   "cell_type": "code",
   "execution_count": 101,
   "id": "6eb3464a",
   "metadata": {},
   "outputs": [],
   "source": [
    "df.loc[df[\"quality\"] >= 7, \"quality\"] = 1"
   ]
  },
  {
   "cell_type": "code",
   "execution_count": 102,
   "id": "e6f7897b",
   "metadata": {},
   "outputs": [
    {
     "data": {
      "text/html": [
       "<div>\n",
       "<style scoped>\n",
       "    .dataframe tbody tr th:only-of-type {\n",
       "        vertical-align: middle;\n",
       "    }\n",
       "\n",
       "    .dataframe tbody tr th {\n",
       "        vertical-align: top;\n",
       "    }\n",
       "\n",
       "    .dataframe thead th {\n",
       "        text-align: right;\n",
       "    }\n",
       "</style>\n",
       "<table border=\"1\" class=\"dataframe\">\n",
       "  <thead>\n",
       "    <tr style=\"text-align: right;\">\n",
       "      <th></th>\n",
       "      <th>volatile acidity</th>\n",
       "      <th>citric acid</th>\n",
       "      <th>residual sugar</th>\n",
       "      <th>chlorides</th>\n",
       "      <th>free sulfur dioxide</th>\n",
       "      <th>total sulfur dioxide</th>\n",
       "      <th>sulphates</th>\n",
       "      <th>alcohol</th>\n",
       "      <th>quality</th>\n",
       "    </tr>\n",
       "  </thead>\n",
       "  <tbody>\n",
       "    <tr>\n",
       "      <th>0</th>\n",
       "      <td>0.630435</td>\n",
       "      <td>0.000000</td>\n",
       "      <td>0.127273</td>\n",
       "      <td>0.202128</td>\n",
       "      <td>0.217391</td>\n",
       "      <td>0.201439</td>\n",
       "      <td>0.277108</td>\n",
       "      <td>0.176471</td>\n",
       "      <td>0</td>\n",
       "    </tr>\n",
       "    <tr>\n",
       "      <th>1</th>\n",
       "      <td>0.826087</td>\n",
       "      <td>0.000000</td>\n",
       "      <td>0.254545</td>\n",
       "      <td>0.319149</td>\n",
       "      <td>0.521739</td>\n",
       "      <td>0.438849</td>\n",
       "      <td>0.421687</td>\n",
       "      <td>0.254902</td>\n",
       "      <td>0</td>\n",
       "    </tr>\n",
       "    <tr>\n",
       "      <th>2</th>\n",
       "      <td>0.695652</td>\n",
       "      <td>0.050633</td>\n",
       "      <td>0.200000</td>\n",
       "      <td>0.287234</td>\n",
       "      <td>0.304348</td>\n",
       "      <td>0.345324</td>\n",
       "      <td>0.385542</td>\n",
       "      <td>0.254902</td>\n",
       "      <td>0</td>\n",
       "    </tr>\n",
       "    <tr>\n",
       "      <th>3</th>\n",
       "      <td>0.173913</td>\n",
       "      <td>0.708861</td>\n",
       "      <td>0.127273</td>\n",
       "      <td>0.196809</td>\n",
       "      <td>0.347826</td>\n",
       "      <td>0.388489</td>\n",
       "      <td>0.301205</td>\n",
       "      <td>0.254902</td>\n",
       "      <td>0</td>\n",
       "    </tr>\n",
       "    <tr>\n",
       "      <th>4</th>\n",
       "      <td>0.630435</td>\n",
       "      <td>0.000000</td>\n",
       "      <td>0.127273</td>\n",
       "      <td>0.202128</td>\n",
       "      <td>0.217391</td>\n",
       "      <td>0.201439</td>\n",
       "      <td>0.277108</td>\n",
       "      <td>0.176471</td>\n",
       "      <td>0</td>\n",
       "    </tr>\n",
       "    <tr>\n",
       "      <th>...</th>\n",
       "      <td>...</td>\n",
       "      <td>...</td>\n",
       "      <td>...</td>\n",
       "      <td>...</td>\n",
       "      <td>...</td>\n",
       "      <td>...</td>\n",
       "      <td>...</td>\n",
       "      <td>...</td>\n",
       "      <td>...</td>\n",
       "    </tr>\n",
       "    <tr>\n",
       "      <th>3080</th>\n",
       "      <td>0.379236</td>\n",
       "      <td>0.748925</td>\n",
       "      <td>0.462716</td>\n",
       "      <td>0.207690</td>\n",
       "      <td>0.096530</td>\n",
       "      <td>0.081447</td>\n",
       "      <td>0.406764</td>\n",
       "      <td>0.697425</td>\n",
       "      <td>1</td>\n",
       "    </tr>\n",
       "    <tr>\n",
       "      <th>3081</th>\n",
       "      <td>0.282239</td>\n",
       "      <td>0.459629</td>\n",
       "      <td>0.100941</td>\n",
       "      <td>0.142885</td>\n",
       "      <td>0.079464</td>\n",
       "      <td>0.046390</td>\n",
       "      <td>0.655146</td>\n",
       "      <td>0.478043</td>\n",
       "      <td>1</td>\n",
       "    </tr>\n",
       "    <tr>\n",
       "      <th>3082</th>\n",
       "      <td>0.237060</td>\n",
       "      <td>0.520189</td>\n",
       "      <td>0.157140</td>\n",
       "      <td>0.141717</td>\n",
       "      <td>0.061076</td>\n",
       "      <td>0.059095</td>\n",
       "      <td>0.708271</td>\n",
       "      <td>0.373479</td>\n",
       "      <td>1</td>\n",
       "    </tr>\n",
       "    <tr>\n",
       "      <th>3083</th>\n",
       "      <td>0.407449</td>\n",
       "      <td>0.793647</td>\n",
       "      <td>0.556618</td>\n",
       "      <td>0.242838</td>\n",
       "      <td>0.108696</td>\n",
       "      <td>0.087898</td>\n",
       "      <td>0.542108</td>\n",
       "      <td>0.830423</td>\n",
       "      <td>1</td>\n",
       "    </tr>\n",
       "    <tr>\n",
       "      <th>3084</th>\n",
       "      <td>0.319999</td>\n",
       "      <td>0.612081</td>\n",
       "      <td>0.122181</td>\n",
       "      <td>0.178267</td>\n",
       "      <td>0.132671</td>\n",
       "      <td>0.072682</td>\n",
       "      <td>0.437452</td>\n",
       "      <td>0.796414</td>\n",
       "      <td>1</td>\n",
       "    </tr>\n",
       "  </tbody>\n",
       "</table>\n",
       "<p>3085 rows × 9 columns</p>\n",
       "</div>"
      ],
      "text/plain": [
       "      volatile acidity  citric acid  residual sugar  chlorides  \\\n",
       "0             0.630435     0.000000        0.127273   0.202128   \n",
       "1             0.826087     0.000000        0.254545   0.319149   \n",
       "2             0.695652     0.050633        0.200000   0.287234   \n",
       "3             0.173913     0.708861        0.127273   0.196809   \n",
       "4             0.630435     0.000000        0.127273   0.202128   \n",
       "...                ...          ...             ...        ...   \n",
       "3080          0.379236     0.748925        0.462716   0.207690   \n",
       "3081          0.282239     0.459629        0.100941   0.142885   \n",
       "3082          0.237060     0.520189        0.157140   0.141717   \n",
       "3083          0.407449     0.793647        0.556618   0.242838   \n",
       "3084          0.319999     0.612081        0.122181   0.178267   \n",
       "\n",
       "      free sulfur dioxide  total sulfur dioxide  sulphates   alcohol  quality  \n",
       "0                0.217391              0.201439   0.277108  0.176471        0  \n",
       "1                0.521739              0.438849   0.421687  0.254902        0  \n",
       "2                0.304348              0.345324   0.385542  0.254902        0  \n",
       "3                0.347826              0.388489   0.301205  0.254902        0  \n",
       "4                0.217391              0.201439   0.277108  0.176471        0  \n",
       "...                   ...                   ...        ...       ...      ...  \n",
       "3080             0.096530              0.081447   0.406764  0.697425        1  \n",
       "3081             0.079464              0.046390   0.655146  0.478043        1  \n",
       "3082             0.061076              0.059095   0.708271  0.373479        1  \n",
       "3083             0.108696              0.087898   0.542108  0.830423        1  \n",
       "3084             0.132671              0.072682   0.437452  0.796414        1  \n",
       "\n",
       "[3085 rows x 9 columns]"
      ]
     },
     "execution_count": 102,
     "metadata": {},
     "output_type": "execute_result"
    }
   ],
   "source": [
    "df"
   ]
  },
  {
   "cell_type": "code",
   "execution_count": 103,
   "id": "c86f38d8",
   "metadata": {},
   "outputs": [
    {
     "data": {
      "text/html": [
       "<div>\n",
       "<style scoped>\n",
       "    .dataframe tbody tr th:only-of-type {\n",
       "        vertical-align: middle;\n",
       "    }\n",
       "\n",
       "    .dataframe tbody tr th {\n",
       "        vertical-align: top;\n",
       "    }\n",
       "\n",
       "    .dataframe thead th {\n",
       "        text-align: right;\n",
       "    }\n",
       "</style>\n",
       "<table border=\"1\" class=\"dataframe\">\n",
       "  <thead>\n",
       "    <tr style=\"text-align: right;\">\n",
       "      <th></th>\n",
       "      <th>volatile acidity</th>\n",
       "      <th>citric acid</th>\n",
       "      <th>residual sugar</th>\n",
       "      <th>chlorides</th>\n",
       "      <th>free sulfur dioxide</th>\n",
       "      <th>total sulfur dioxide</th>\n",
       "      <th>sulphates</th>\n",
       "      <th>alcohol</th>\n",
       "    </tr>\n",
       "  </thead>\n",
       "  <tbody>\n",
       "    <tr>\n",
       "      <th>0</th>\n",
       "      <td>0.630435</td>\n",
       "      <td>0.000000</td>\n",
       "      <td>0.127273</td>\n",
       "      <td>0.202128</td>\n",
       "      <td>0.217391</td>\n",
       "      <td>0.201439</td>\n",
       "      <td>0.277108</td>\n",
       "      <td>0.176471</td>\n",
       "    </tr>\n",
       "    <tr>\n",
       "      <th>1</th>\n",
       "      <td>0.826087</td>\n",
       "      <td>0.000000</td>\n",
       "      <td>0.254545</td>\n",
       "      <td>0.319149</td>\n",
       "      <td>0.521739</td>\n",
       "      <td>0.438849</td>\n",
       "      <td>0.421687</td>\n",
       "      <td>0.254902</td>\n",
       "    </tr>\n",
       "    <tr>\n",
       "      <th>2</th>\n",
       "      <td>0.695652</td>\n",
       "      <td>0.050633</td>\n",
       "      <td>0.200000</td>\n",
       "      <td>0.287234</td>\n",
       "      <td>0.304348</td>\n",
       "      <td>0.345324</td>\n",
       "      <td>0.385542</td>\n",
       "      <td>0.254902</td>\n",
       "    </tr>\n",
       "    <tr>\n",
       "      <th>3</th>\n",
       "      <td>0.173913</td>\n",
       "      <td>0.708861</td>\n",
       "      <td>0.127273</td>\n",
       "      <td>0.196809</td>\n",
       "      <td>0.347826</td>\n",
       "      <td>0.388489</td>\n",
       "      <td>0.301205</td>\n",
       "      <td>0.254902</td>\n",
       "    </tr>\n",
       "    <tr>\n",
       "      <th>4</th>\n",
       "      <td>0.630435</td>\n",
       "      <td>0.000000</td>\n",
       "      <td>0.127273</td>\n",
       "      <td>0.202128</td>\n",
       "      <td>0.217391</td>\n",
       "      <td>0.201439</td>\n",
       "      <td>0.277108</td>\n",
       "      <td>0.176471</td>\n",
       "    </tr>\n",
       "    <tr>\n",
       "      <th>...</th>\n",
       "      <td>...</td>\n",
       "      <td>...</td>\n",
       "      <td>...</td>\n",
       "      <td>...</td>\n",
       "      <td>...</td>\n",
       "      <td>...</td>\n",
       "      <td>...</td>\n",
       "      <td>...</td>\n",
       "    </tr>\n",
       "    <tr>\n",
       "      <th>3080</th>\n",
       "      <td>0.379236</td>\n",
       "      <td>0.748925</td>\n",
       "      <td>0.462716</td>\n",
       "      <td>0.207690</td>\n",
       "      <td>0.096530</td>\n",
       "      <td>0.081447</td>\n",
       "      <td>0.406764</td>\n",
       "      <td>0.697425</td>\n",
       "    </tr>\n",
       "    <tr>\n",
       "      <th>3081</th>\n",
       "      <td>0.282239</td>\n",
       "      <td>0.459629</td>\n",
       "      <td>0.100941</td>\n",
       "      <td>0.142885</td>\n",
       "      <td>0.079464</td>\n",
       "      <td>0.046390</td>\n",
       "      <td>0.655146</td>\n",
       "      <td>0.478043</td>\n",
       "    </tr>\n",
       "    <tr>\n",
       "      <th>3082</th>\n",
       "      <td>0.237060</td>\n",
       "      <td>0.520189</td>\n",
       "      <td>0.157140</td>\n",
       "      <td>0.141717</td>\n",
       "      <td>0.061076</td>\n",
       "      <td>0.059095</td>\n",
       "      <td>0.708271</td>\n",
       "      <td>0.373479</td>\n",
       "    </tr>\n",
       "    <tr>\n",
       "      <th>3083</th>\n",
       "      <td>0.407449</td>\n",
       "      <td>0.793647</td>\n",
       "      <td>0.556618</td>\n",
       "      <td>0.242838</td>\n",
       "      <td>0.108696</td>\n",
       "      <td>0.087898</td>\n",
       "      <td>0.542108</td>\n",
       "      <td>0.830423</td>\n",
       "    </tr>\n",
       "    <tr>\n",
       "      <th>3084</th>\n",
       "      <td>0.319999</td>\n",
       "      <td>0.612081</td>\n",
       "      <td>0.122181</td>\n",
       "      <td>0.178267</td>\n",
       "      <td>0.132671</td>\n",
       "      <td>0.072682</td>\n",
       "      <td>0.437452</td>\n",
       "      <td>0.796414</td>\n",
       "    </tr>\n",
       "  </tbody>\n",
       "</table>\n",
       "<p>3085 rows × 8 columns</p>\n",
       "</div>"
      ],
      "text/plain": [
       "      volatile acidity  citric acid  residual sugar  chlorides  \\\n",
       "0             0.630435     0.000000        0.127273   0.202128   \n",
       "1             0.826087     0.000000        0.254545   0.319149   \n",
       "2             0.695652     0.050633        0.200000   0.287234   \n",
       "3             0.173913     0.708861        0.127273   0.196809   \n",
       "4             0.630435     0.000000        0.127273   0.202128   \n",
       "...                ...          ...             ...        ...   \n",
       "3080          0.379236     0.748925        0.462716   0.207690   \n",
       "3081          0.282239     0.459629        0.100941   0.142885   \n",
       "3082          0.237060     0.520189        0.157140   0.141717   \n",
       "3083          0.407449     0.793647        0.556618   0.242838   \n",
       "3084          0.319999     0.612081        0.122181   0.178267   \n",
       "\n",
       "      free sulfur dioxide  total sulfur dioxide  sulphates   alcohol  \n",
       "0                0.217391              0.201439   0.277108  0.176471  \n",
       "1                0.521739              0.438849   0.421687  0.254902  \n",
       "2                0.304348              0.345324   0.385542  0.254902  \n",
       "3                0.347826              0.388489   0.301205  0.254902  \n",
       "4                0.217391              0.201439   0.277108  0.176471  \n",
       "...                   ...                   ...        ...       ...  \n",
       "3080             0.096530              0.081447   0.406764  0.697425  \n",
       "3081             0.079464              0.046390   0.655146  0.478043  \n",
       "3082             0.061076              0.059095   0.708271  0.373479  \n",
       "3083             0.108696              0.087898   0.542108  0.830423  \n",
       "3084             0.132671              0.072682   0.437452  0.796414  \n",
       "\n",
       "[3085 rows x 8 columns]"
      ]
     },
     "execution_count": 103,
     "metadata": {},
     "output_type": "execute_result"
    }
   ],
   "source": [
    "#again separating x and y \n",
    "x=df.iloc[:,0:8]\n",
    "x"
   ]
  },
  {
   "cell_type": "code",
   "execution_count": 104,
   "id": "b19e84fd",
   "metadata": {},
   "outputs": [
    {
     "data": {
      "text/html": [
       "<div>\n",
       "<style scoped>\n",
       "    .dataframe tbody tr th:only-of-type {\n",
       "        vertical-align: middle;\n",
       "    }\n",
       "\n",
       "    .dataframe tbody tr th {\n",
       "        vertical-align: top;\n",
       "    }\n",
       "\n",
       "    .dataframe thead th {\n",
       "        text-align: right;\n",
       "    }\n",
       "</style>\n",
       "<table border=\"1\" class=\"dataframe\">\n",
       "  <thead>\n",
       "    <tr style=\"text-align: right;\">\n",
       "      <th></th>\n",
       "      <th>quality</th>\n",
       "    </tr>\n",
       "  </thead>\n",
       "  <tbody>\n",
       "    <tr>\n",
       "      <th>0</th>\n",
       "      <td>0</td>\n",
       "    </tr>\n",
       "    <tr>\n",
       "      <th>1</th>\n",
       "      <td>0</td>\n",
       "    </tr>\n",
       "    <tr>\n",
       "      <th>2</th>\n",
       "      <td>0</td>\n",
       "    </tr>\n",
       "    <tr>\n",
       "      <th>3</th>\n",
       "      <td>0</td>\n",
       "    </tr>\n",
       "    <tr>\n",
       "      <th>4</th>\n",
       "      <td>0</td>\n",
       "    </tr>\n",
       "    <tr>\n",
       "      <th>...</th>\n",
       "      <td>...</td>\n",
       "    </tr>\n",
       "    <tr>\n",
       "      <th>3080</th>\n",
       "      <td>1</td>\n",
       "    </tr>\n",
       "    <tr>\n",
       "      <th>3081</th>\n",
       "      <td>1</td>\n",
       "    </tr>\n",
       "    <tr>\n",
       "      <th>3082</th>\n",
       "      <td>1</td>\n",
       "    </tr>\n",
       "    <tr>\n",
       "      <th>3083</th>\n",
       "      <td>1</td>\n",
       "    </tr>\n",
       "    <tr>\n",
       "      <th>3084</th>\n",
       "      <td>1</td>\n",
       "    </tr>\n",
       "  </tbody>\n",
       "</table>\n",
       "<p>3085 rows × 1 columns</p>\n",
       "</div>"
      ],
      "text/plain": [
       "      quality\n",
       "0           0\n",
       "1           0\n",
       "2           0\n",
       "3           0\n",
       "4           0\n",
       "...       ...\n",
       "3080        1\n",
       "3081        1\n",
       "3082        1\n",
       "3083        1\n",
       "3084        1\n",
       "\n",
       "[3085 rows x 1 columns]"
      ]
     },
     "execution_count": 104,
     "metadata": {},
     "output_type": "execute_result"
    }
   ],
   "source": [
    "y=df.iloc[:, 8:]\n",
    "y"
   ]
  },
  {
   "cell_type": "code",
   "execution_count": 105,
   "id": "222863c6",
   "metadata": {},
   "outputs": [
    {
     "data": {
      "text/plain": [
       "quality\n",
       "0          1851\n",
       "1          1234\n",
       "dtype: int64"
      ]
     },
     "execution_count": 105,
     "metadata": {},
     "output_type": "execute_result"
    }
   ],
   "source": [
    "y.value_counts()"
   ]
  },
  {
   "cell_type": "code",
   "execution_count": 298,
   "id": "80aa8518",
   "metadata": {},
   "outputs": [
    {
     "name": "stdout",
     "output_type": "stream",
     "text": [
      "40.0\n"
     ]
    }
   ],
   "source": [
    "#% of good quality wines\n",
    "goodwine= (1234/(1234+1851))*100\n",
    "print(goodwine)"
   ]
  },
  {
   "cell_type": "code",
   "execution_count": 106,
   "id": "8450a762",
   "metadata": {},
   "outputs": [],
   "source": [
    "# from here we can see that there are 1851 wines that are of not good quality while 1234 wines are of good quality"
   ]
  },
  {
   "cell_type": "markdown",
   "id": "6ad61276",
   "metadata": {},
   "source": [
    "# REGULARIZATION: AUC ROC CURVE"
   ]
  },
  {
   "cell_type": "code",
   "execution_count": 240,
   "id": "622e84f1",
   "metadata": {},
   "outputs": [],
   "source": [
    "from sklearn.metrics  import roc_curve\n",
    "from sklearn.metrics  import roc_auc_score"
   ]
  },
  {
   "cell_type": "code",
   "execution_count": 253,
   "id": "42b35bb3",
   "metadata": {},
   "outputs": [],
   "source": [
    "x_train, x_test, y_train, y_test=train_test_split(x, y, test_size=.33, random_state= 45)"
   ]
  },
  {
   "cell_type": "raw",
   "id": "49207e2e",
   "metadata": {},
   "source": [
    "Decision Tree Classifier"
   ]
  },
  {
   "cell_type": "code",
   "execution_count": 254,
   "id": "901b26af",
   "metadata": {},
   "outputs": [],
   "source": [
    "#Using hyper parameter tuning to find the best criterion"
   ]
  },
  {
   "cell_type": "code",
   "execution_count": 255,
   "id": "b8d95125",
   "metadata": {},
   "outputs": [
    {
     "name": "stdout",
     "output_type": "stream",
     "text": [
      "{'criterion': 'entropy'}\n",
      "0.8914100486223664\n"
     ]
    }
   ],
   "source": [
    "from sklearn.model_selection import GridSearchCV\n",
    "from sklearn.tree import DecisionTreeClassifier\n",
    "dtc= DecisionTreeClassifier()\n",
    "grid_param = {'criterion':['gini', 'entropy']}\n",
    "\n",
    "gd_sr= GridSearchCV(estimator= dtc,param_grid = grid_param, scoring= 'accuracy', cv=5) #these are all default values\n",
    "\n",
    "gd_sr.fit(x,y)\n",
    "\n",
    "best_paramters= gd_sr.best_params_\n",
    "print(best_paramters)\n",
    "best_result = gd_sr.best_score_\n",
    "print(best_result)"
   ]
  },
  {
   "cell_type": "code",
   "execution_count": 265,
   "id": "70c5d251",
   "metadata": {},
   "outputs": [
    {
     "data": {
      "text/plain": [
       "0.914"
      ]
     },
     "execution_count": 265,
     "metadata": {},
     "output_type": "execute_result"
    }
   ],
   "source": [
    "from sklearn.tree import DecisionTreeClassifier\n",
    "dt= DecisionTreeClassifier(criterion= 'entropy')\n",
    "dt.fit(x_train, y_train)\n",
    "p=dt.predict(x_test)\n",
    "ac=accuracy_score(y_test, p)\n",
    "round(ac, 3)"
   ]
  },
  {
   "cell_type": "code",
   "execution_count": 266,
   "id": "c7434e00",
   "metadata": {},
   "outputs": [],
   "source": [
    "# we can see that the accuracy is good of 91.4% seen"
   ]
  },
  {
   "cell_type": "code",
   "execution_count": 267,
   "id": "7eace48c",
   "metadata": {},
   "outputs": [
    {
     "data": {
      "image/png": "[encoded data removed]",
      "text/plain": [
       "<Figure size 432x288 with 1 Axes>"
      ]
     },
     "metadata": {
      "needs_background": "light"
     },
     "output_type": "display_data"
    }
   ],
   "source": [
    "pred_prob= dt.predict_proba(x_test)[:,1]\n",
    "fpr, tpr, thresholds= roc_curve(y_test,pred_prob)\n",
    "plt.plot([0, 1],[0,1], 'k--')\n",
    "plt.plot(fpr, tpr, label='Decision Tree classifier')\n",
    "plt.xlabel('False positive Rate')\n",
    "plt.ylabel('True positive rate')\n",
    "plt.title('Decision Tree classifier')\n",
    "plt.show()\n",
    "auc_score= roc_auc_score(y_test,dt.predict(x_test))"
   ]
  },
  {
   "cell_type": "raw",
   "id": "acb99500",
   "metadata": {},
   "source": [
    "K Nearest Neighbour"
   ]
  },
  {
   "cell_type": "code",
   "execution_count": 211,
   "id": "18f2bb44",
   "metadata": {},
   "outputs": [],
   "source": [
    "from sklearn.neighbors import KNeighborsClassifier"
   ]
  },
  {
   "cell_type": "code",
   "execution_count": 293,
   "id": "3e452bac",
   "metadata": {},
   "outputs": [],
   "source": [
    "x_train, x_test, y_train, y_test=train_test_split(x, y, test_size=.33, random_state= 45)"
   ]
  },
  {
   "cell_type": "code",
   "execution_count": 294,
   "id": "753949c5",
   "metadata": {},
   "outputs": [
    {
     "data": {
      "text/plain": [
       "0.921"
      ]
     },
     "execution_count": 294,
     "metadata": {},
     "output_type": "execute_result"
    }
   ],
   "source": [
    "\n",
    "knn=KNeighborsClassifier(n_neighbors=5)\n",
    "knn.fit(x_train, y_train)\n",
    "p=knn.predict(x_test)\n",
    "ac=accuracy_score(y_test, p)\n",
    "round(ac, 3)"
   ]
  },
  {
   "cell_type": "code",
   "execution_count": 295,
   "id": "a322f7d5",
   "metadata": {},
   "outputs": [],
   "source": [
    "#The accuracy is 92.1 %"
   ]
  },
  {
   "cell_type": "code",
   "execution_count": 296,
   "id": "7355a3e7",
   "metadata": {},
   "outputs": [
    {
     "data": {
      "image/png": "[encoded data removed]",
      "text/plain": [
       "<Figure size 432x288 with 1 Axes>"
      ]
     },
     "metadata": {
      "needs_background": "light"
     },
     "output_type": "display_data"
    }
   ],
   "source": [
    "pred_prob= dt.predict_proba(x_test)[:,1]\n",
    "fpr, tpr, thresholds= roc_curve(y_test,pred_prob)\n",
    "plt.plot([0, 1],[0,1], 'k--')\n",
    "plt.plot(fpr, tpr, label='K Nearest Classifier')\n",
    "plt.xlabel('False positive Rate')\n",
    "plt.ylabel('True positive rate')\n",
    "plt.title('K nearest classifier')\n",
    "plt.show()\n",
    "auc_score= roc_auc_score(y_test,dt.predict(x_test))"
   ]
  },
  {
   "cell_type": "markdown",
   "id": "bca7c7f8",
   "metadata": {},
   "source": [
    "Using Support Vector Classifier"
   ]
  },
  {
   "cell_type": "code",
   "execution_count": 216,
   "id": "b5f66f6f",
   "metadata": {},
   "outputs": [],
   "source": [
    "from sklearn.svm import SVC"
   ]
  },
  {
   "cell_type": "code",
   "execution_count": 285,
   "id": "5e03e4d8",
   "metadata": {},
   "outputs": [],
   "source": [
    "x_train, x_test, y_train, y_test=train_test_split(x, y, test_size=.33, random_state=45)"
   ]
  },
  {
   "cell_type": "code",
   "execution_count": 286,
   "id": "792796f2",
   "metadata": {},
   "outputs": [
    {
     "data": {
      "text/plain": [
       "GridSearchCV(estimator=SVC(),\n",
       "             param_grid={'C': [1, 10], 'kernel': ['linear', 'rbf']})"
      ]
     },
     "execution_count": 286,
     "metadata": {},
     "output_type": "execute_result"
    }
   ],
   "source": [
    "#using hyper parameter tuning\n",
    "from sklearn import svm\n",
    "parameters= {'kernel': ['linear', 'rbf'], 'C':[1,10]}\n",
    "svc= svm.SVC()\n",
    "clf= GridSearchCV(svc, parameters)\n",
    "clf.fit(x,y)\n"
   ]
  },
  {
   "cell_type": "code",
   "execution_count": 287,
   "id": "0bb499f9",
   "metadata": {},
   "outputs": [
    {
     "name": "stdout",
     "output_type": "stream",
     "text": [
      "{'C': 10, 'kernel': 'rbf'}\n"
     ]
    }
   ],
   "source": [
    "print(clf.best_params_)\n",
    "\n",
    "# it says \"rbf\" kernel would give the max accuracy"
   ]
  },
  {
   "cell_type": "code",
   "execution_count": 288,
   "id": "b46f9bf1",
   "metadata": {},
   "outputs": [],
   "source": [
    "def svmkernel(ker):\n",
    "    svc=SVC(kernel=ker)\n",
    "    svc.fit(x_train, y_train)\n",
    "    predsvc=svc.predict(x_test)\n",
    "    ac=accuracy_score(y_test, p)\n",
    "    print(round(ac, 3))"
   ]
  },
  {
   "cell_type": "code",
   "execution_count": 289,
   "id": "b8e52d06",
   "metadata": {},
   "outputs": [
    {
     "name": "stdout",
     "output_type": "stream",
     "text": [
      "0.914\n"
     ]
    }
   ],
   "source": [
    "svmkernel(\"rbf\")"
   ]
  },
  {
   "cell_type": "code",
   "execution_count": 290,
   "id": "e4d61ff4",
   "metadata": {},
   "outputs": [
    {
     "name": "stdout",
     "output_type": "stream",
     "text": [
      "0.914\n"
     ]
    }
   ],
   "source": [
    "svmkernel(\"linear\")"
   ]
  },
  {
   "cell_type": "code",
   "execution_count": 291,
   "id": "c822f443",
   "metadata": {},
   "outputs": [
    {
     "name": "stdout",
     "output_type": "stream",
     "text": [
      "0.914\n"
     ]
    }
   ],
   "source": [
    "svmkernel(\"poly\")"
   ]
  },
  {
   "cell_type": "code",
   "execution_count": 292,
   "id": "87456d33",
   "metadata": {},
   "outputs": [],
   "source": [
    "# SVC gives the accuracy of 91.4%"
   ]
  },
  {
   "cell_type": "markdown",
   "id": "445e823a",
   "metadata": {},
   "source": [
    "# HENCE, K NEIGHBOR MODEL GIVES MAX ACCURACY OF 92.1% WE CONSIDER IT AS FINAL MODEL."
   ]
  },
  {
   "cell_type": "code",
   "execution_count": 299,
   "id": "f1232bdf",
   "metadata": {},
   "outputs": [],
   "source": [
    "#SAVING MODEL\n",
    "\n",
    "#saving data frame in csv\n",
    "projectwine=pd.DataFrame(p)\n",
    "projectwine.to_csv(\"project_wine.csv\")\n"
   ]
  },
  {
   "cell_type": "code",
   "execution_count": 300,
   "id": "029525fb",
   "metadata": {},
   "outputs": [],
   "source": [
    "#saving model\n",
    "import pickle\n",
    "filename= 'pickledprojectwine.pkl'\n",
    "pickle.dump(knn, open(filename, 'wb'))\n"
   ]
  },
  {
   "cell_type": "code",
   "execution_count": 305,
   "id": "5a40276d",
   "metadata": {},
   "outputs": [],
   "source": [
    "#load model from disk\n",
    "loaded_model = pickle.load(open(filename, 'rb'))"
   ]
  },
  {
   "cell_type": "code",
   "execution_count": 309,
   "id": "c3fc0f7f",
   "metadata": {},
   "outputs": [
    {
     "data": {
      "text/plain": [
       "0.9205103042198234"
      ]
     },
     "execution_count": 309,
     "metadata": {},
     "output_type": "execute_result"
    }
   ],
   "source": [
    "#model prediction\n",
    "result = loaded_model.score(x_test, y_test)\n",
    "result"
   ]
  },
  {
   "cell_type": "raw",
   "id": "e8b1365c",
   "metadata": {},
   "source": [
    "CONCLUSION:\n",
    "    1. The physiochemical properties make a wine 'good' are: \n",
    "        volatile acidity\n",
    "        citric acid\n",
    "        residual sugar\n",
    "        chlorides\n",
    "        free sulfur dioxide\n",
    "        total sulfur dioxide\n",
    "        sulphates\n",
    "        alcohol\n",
    "        \n",
    "        There are 40% good wines in entire data (7 and above quality) and 60% not good wine (6 and below quality)\n",
    "        \n",
    "    2. The best model is the KNeighborsClassifier and SVC with (92.1% )accuracy and also the Desicion Tree Classifier (91%) \n",
    "    by using the Regularization technique using AUC ROC curve."
   ]
  },
  {
   "cell_type": "code",
   "execution_count": null,
   "id": "c0e5277d",
   "metadata": {},
   "outputs": [],
   "source": []
  }
 ],
 "metadata": {
  "kernelspec": {
   "display_name": "Python 3",
   "language": "python",
   "name": "python3"
  },
  "language_info": {
   "codemirror_mode": {
    "name": "ipython",
    "version": 3
   },
   "file_extension": ".py",
   "mimetype": "text/x-python",
   "name": "python",
   "nbconvert_exporter": "python",
   "pygments_lexer": "ipython3",
   "version": "3.8.8"
  }
 },
 "nbformat": 4,
 "nbformat_minor": 5
}
